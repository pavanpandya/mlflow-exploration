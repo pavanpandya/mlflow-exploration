{
 "cells": [
  {
   "cell_type": "markdown",
   "metadata": {},
   "source": [
    "# **Introduction**\n",
    "\n",
    "* MLflow is an Open Source Machine Learning Platform. It is a better way to manage the ML lifecycle."
   ]
  },
  {
   "cell_type": "markdown",
   "metadata": {},
   "source": [
    "## **MLflow Tracking Quick Start**\n",
    "\n",
    "**What you will learn?**\n",
    "* How to `log` parameters, metrics, and a model\n",
    "* The basics of the MLflow fluent API\n",
    "* How to `register` a model during logging\n",
    "* How to navigate to a model in the `MLflow UI`\n",
    "* How to `load` a logged model for inference"
   ]
  },
  {
   "cell_type": "markdown",
   "metadata": {},
   "source": [
    "#### **Step-1 - Get MLflow**"
   ]
  },
  {
   "cell_type": "code",
   "execution_count": null,
   "metadata": {},
   "outputs": [],
   "source": [
    "# !pip install mlflow"
   ]
  },
  {
   "cell_type": "markdown",
   "metadata": {},
   "source": [
    "#### **Step-2 - Start a Tracking Serve**\n",
    "\n",
    "Reference Link - https://mlflow.org/docs/latest/getting-started/running-notebooks/index.html"
   ]
  },
  {
   "cell_type": "code",
   "execution_count": null,
   "metadata": {},
   "outputs": [],
   "source": [
    "# Run this command in bash: mlflow server --host 127.0.0.1 --port 8080"
   ]
  },
  {
   "cell_type": "code",
   "execution_count": null,
   "metadata": {},
   "outputs": [],
   "source": [
    "# Setting thje tracking Server URI\n",
    "import mlflow\n",
    "\n",
    "mlflow.set_tracking_uri(uri=\"http://<host>:<port>\")"
   ]
  },
  {
   "cell_type": "markdown",
   "metadata": {},
   "source": [
    "#### **Step-3 - Train a model and prepare metadata for logging**\n",
    "\n",
    "* Loading Iris Dataset\n",
    "* Training a Logistic Regression Model and evaluating it\n",
    "* Preparing the model hyperparameters and calcaulating the metrics for logging"
   ]
  },
  {
   "cell_type": "code",
   "execution_count": null,
   "metadata": {},
   "outputs": [],
   "source": [
    "import mlflow\n",
    "from mlflow.models import infer_signature\n",
    "\n",
    "import pandas as pd\n",
    "from sklearn import datasets\n",
    "from sklearn.model_selection import train_test_split\n",
    "from sklearn.linear_model import LogisticRegression\n",
    "from sklearn.metrics import accuracy_score, precision_score, recall_score, f1_score\n",
    "\n",
    "\n",
    "# Load the Iris dataset\n",
    "X, y = datasets.load_iris(return_X_y=True)\n",
    "\n",
    "# Split the data into training and test sets\n",
    "X_train, X_test, y_train, y_test = train_test_split(\n",
    "    X, y, test_size=0.2, random_state=42\n",
    ")\n",
    "\n",
    "# Define the model hyperparameters\n",
    "params = {\n",
    "    \"solver\": \"lbfgs\",\n",
    "    \"max_iter\": 1000,\n",
    "    \"multi_class\": \"auto\",\n",
    "    \"random_state\": 8888,\n",
    "}\n",
    "\n",
    "# Train the model\n",
    "lr = LogisticRegression(**params)\n",
    "lr.fit(X_train, y_train)\n",
    "\n",
    "# Predict on the test set\n",
    "y_pred = lr.predict(X_test)\n",
    "\n",
    "# Calculate metrics\n",
    "accuracy = accuracy_score(y_test, y_pred)"
   ]
  },
  {
   "cell_type": "markdown",
   "metadata": {},
   "source": [
    "#### **Step-4 - Log the Model and its metadata to MLflow**\n",
    "\n",
    "**The steps that we will take are:**\n",
    "* Initiate an MLflow run context to start a new run that we will log the model and metadata to.\n",
    "* Log model parameters and performance metrics.\n",
    "* Tag the run for easy retrieval.\n",
    "* Register the model in the MLflow Model Registry while logging (saving) the model."
   ]
  },
  {
   "cell_type": "code",
   "execution_count": null,
   "metadata": {},
   "outputs": [],
   "source": [
    "# Set our tracking server uri for logging\n",
    "mlflow.set_tracking_uri(uri=\"http://127.0.0.1:8080\")\n",
    "\n",
    "# Create a new MLflow Experiment\n",
    "mlflow.set_experiment(\"MLflow Quickstart\")\n",
    "\n",
    "# Start an MLflow run\n",
    "with mlflow.start_run():\n",
    "    # Log the hyperparameters\n",
    "    mlflow.log_params(params)\n",
    "\n",
    "    # Log the loss metric\n",
    "    mlflow.log_metric(\"accuracy\", accuracy)\n",
    "\n",
    "    # Set a tag that we can use to remind ourselves what this run was for\n",
    "    mlflow.set_tag(\"Training Info\", \"Basic LR model for iris data\")\n",
    "\n",
    "    # Infer the model signature\n",
    "    signature = infer_signature(X_train, lr.predict(X_train))\n",
    "\n",
    "    # Log the model\n",
    "    model_info = mlflow.sklearn.log_model(\n",
    "        sk_model=lr,\n",
    "        artifact_path=\"iris_model\",\n",
    "        signature=signature,\n",
    "        input_example=X_train,\n",
    "        registered_model_name=\"tracking-quickstart\",\n",
    "    )"
   ]
  },
  {
   "cell_type": "markdown",
   "metadata": {},
   "source": [
    "#### **Step-5 - Load the model as a python functioin and use it for inference**\n",
    "\n",
    "**After logging the model, we can perform inference by:**\n",
    "\n",
    "* Loading the model using MLflow’s pyfunc flavor.\n",
    "* Running Predict on new data using the loaded model."
   ]
  },
  {
   "cell_type": "code",
   "execution_count": null,
   "metadata": {},
   "outputs": [],
   "source": [
    "# Load the model back for predictions as a generic Python Function model\n",
    "loaded_model = mlflow.pyfunc.load_model(model_info.model_uri)\n",
    "\n",
    "predictions = loaded_model.predict(X_test)\n",
    "\n",
    "iris_feature_names = datasets.load_iris().feature_names\n",
    "\n",
    "result = pd.DataFrame(X_test, columns=iris_feature_names)\n",
    "result[\"actual_class\"] = y_test\n",
    "result[\"predicted_class\"] = predictions\n",
    "\n",
    "result[:4]"
   ]
  },
  {
   "cell_type": "markdown",
   "metadata": {},
   "source": [
    "#### **Step-6 - View the Run in the MLflow UI**\n",
    "\n",
    "In order to see the results of our run, we can navigate to the MLflow UI. Since we have already started the Tracking Server at http://localhost:8080, we can simply navigate to that URL in our browser."
   ]
  },
  {
   "cell_type": "markdown",
   "metadata": {},
   "source": [
    "## **Tutorial and Example**"
   ]
  },
  {
   "cell_type": "code",
   "execution_count": null,
   "metadata": {},
   "outputs": [],
   "source": [
    "#\n",
    "# train_diabetes.py\n",
    "#\n",
    "#   MLflow model using ElasticNet (sklearn) and Plots ElasticNet Descent Paths\n",
    "#\n",
    "#   Uses the sklearn Diabetes dataset to predict diabetes progression using ElasticNet\n",
    "#       The predicted \"progression\" column is a quantitative measure of disease progression one year after baseline\n",
    "#       http://scikit-learn.org/stable/modules/generated/sklearn.datasets.load_diabetes.html\n",
    "#   Combines the above with the Lasso Coordinate Descent Path Plot\n",
    "#       http://scikit-learn.org/stable/auto_examples/linear_model/plot_lasso_coordinate_descent_path.html\n",
    "#       Original author: Alexandre Gramfort <alexandre.gramfort@inria.fr>; License: BSD 3 clause\n",
    "#\n",
    "#  Usage:\n",
    "#    python train_diabetes.py 0.01 0.01\n",
    "#    python train_diabetes.py 0.01 0.75\n",
    "#    python train_diabetes.py 0.01 1.0\n",
    "#\n",
    "\n",
    "import sys\n",
    "import warnings\n",
    "from itertools import cycle\n",
    "\n",
    "import matplotlib.pyplot as plt\n",
    "import numpy as np\n",
    "import pandas as pd\n",
    "from sklearn import datasets\n",
    "from sklearn.linear_model import ElasticNet, enet_path\n",
    "from sklearn.metrics import mean_absolute_error, mean_squared_error, r2_score\n",
    "from sklearn.model_selection import train_test_split"
   ]
  },
  {
   "cell_type": "code",
   "execution_count": null,
   "metadata": {},
   "outputs": [],
   "source": [
    "# Load Diabetes datasets\n",
    "diabetes = datasets.load_diabetes()\n",
    "X = diabetes.data\n",
    "y = diabetes.target\n",
    "\n",
    "# Create pandas DataFrame for sklearn ElasticNet linear_model\n",
    "Y = np.array([y]).transpose()\n",
    "d = np.concatenate((X, Y), axis=1)\n",
    "cols = diabetes.feature_names + [\"progression\"]\n",
    "data = pd.DataFrame(d, columns=cols)"
   ]
  },
  {
   "cell_type": "code",
   "execution_count": null,
   "metadata": {},
   "outputs": [],
   "source": [
    "# Import mlflow\n",
    "import mlflow\n",
    "import mlflow.sklearn\n",
    "from mlflow.models import infer_signature\n",
    "\n",
    "\n",
    "mlflow.set_tracking_uri(uri=\"http://<host>:<port>\")"
   ]
  },
  {
   "cell_type": "code",
   "execution_count": null,
   "metadata": {},
   "outputs": [],
   "source": [
    "# Evaluate metrics\n",
    "def eval_metrics(actual, pred):\n",
    "    rmse = np.sqrt(mean_squared_error(actual, pred))\n",
    "    mae = mean_absolute_error(actual, pred)\n",
    "    r2 = r2_score(actual, pred)\n",
    "    return rmse, mae, r2"
   ]
  },
  {
   "cell_type": "code",
   "execution_count": null,
   "metadata": {},
   "outputs": [],
   "source": [
    "if __name__ == \"__main__\":\n",
    "    warnings.filterwarnings(\"ignore\")\n",
    "    np.random.seed(40)\n",
    "\n",
    "    # Split the data into training and test sets. (0.75, 0.25) split.\n",
    "    train, test = train_test_split(data)\n",
    "\n",
    "    # The predicted column is \"progression\" which is a quantitative measure of disease progression one year after baseline\n",
    "    train_x = train.drop([\"progression\"], axis=1)\n",
    "    test_x = test.drop([\"progression\"], axis=1)\n",
    "    train_y = train[[\"progression\"]]\n",
    "    test_y = test[[\"progression\"]]\n",
    "\n",
    "    # alpha = float(sys.argv[1]) if len(sys.argv) > 1 else 0.05\n",
    "    # l1_ratio = float(sys.argv[2]) if len(sys.argv) > 2 else 0.05\n",
    "    alpha = 0.05\n",
    "    l1_ratio = 0.05\n",
    "\n",
    "    # Run ElasticNet\n",
    "    lr = ElasticNet(alpha=alpha, l1_ratio=l1_ratio, random_state=42)\n",
    "    lr.fit(train_x, train_y)\n",
    "    predicted_qualities = lr.predict(test_x)\n",
    "    (rmse, mae, r2) = eval_metrics(test_y, predicted_qualities)\n",
    "\n",
    "    # Print out ElasticNet model metrics\n",
    "    print(f\"Elasticnet model (alpha={alpha:f}, l1_ratio={l1_ratio:f}):\")\n",
    "    print(f\"  RMSE: {rmse}\")\n",
    "    print(f\"  MAE: {mae}\")\n",
    "    print(f\"  R2: {r2}\")\n",
    "\n",
    "    # Infer model signature\n",
    "    predictions = lr.predict(train_x)\n",
    "    signature = infer_signature(train_x, predictions)\n",
    "\n",
    "    # Log mlflow attributes for mlflow UI\n",
    "    mlflow.log_param(\"alpha\", alpha)\n",
    "    mlflow.log_param(\"l1_ratio\", l1_ratio)\n",
    "    mlflow.log_metric(\"rmse\", rmse)\n",
    "    mlflow.log_metric(\"r2\", r2)\n",
    "    mlflow.log_metric(\"mae\", mae)\n",
    "    mlflow.sklearn.log_model(lr, \"model\", signature=signature)\n",
    "\n",
    "    # Compute paths\n",
    "    eps = 5e-3  # the smaller it is the longer is the path\n",
    "\n",
    "    print(\"Computing regularization path using the elastic net.\")\n",
    "    alphas_enet, coefs_enet, _ = enet_path(X, y, eps=eps, l1_ratio=l1_ratio)\n",
    "\n",
    "    # Display results\n",
    "    fig = plt.figure(1)\n",
    "    ax = plt.gca()\n",
    "\n",
    "    colors = cycle([\"b\", \"r\", \"g\", \"c\", \"k\"])\n",
    "    neg_log_alphas_enet = -np.log10(alphas_enet)\n",
    "    for coef_e, c in zip(coefs_enet, colors):\n",
    "        l2 = plt.plot(neg_log_alphas_enet, coef_e, linestyle=\"--\", c=c)\n",
    "\n",
    "    plt.xlabel(\"-Log(alpha)\")\n",
    "    plt.ylabel(\"coefficients\")\n",
    "    title = \"ElasticNet Path by alpha for l1_ratio = \" + str(l1_ratio)\n",
    "    plt.title(title)\n",
    "    plt.axis(\"tight\")\n",
    "\n",
    "    # Save figures\n",
    "    fig.savefig(\"ElasticNet-paths.png\")\n",
    "\n",
    "    # Close plot\n",
    "    plt.close(fig)\n",
    "\n",
    "    # Log artifacts (output files)\n",
    "    mlflow.log_artifact(\"ElasticNet-paths.png\")"
   ]
  },
  {
   "cell_type": "code",
   "execution_count": null,
   "metadata": {},
   "outputs": [],
   "source": []
  }
 ],
 "metadata": {
  "kernelspec": {
   "display_name": "Python 3",
   "language": "python",
   "name": "python3"
  },
  "language_info": {
   "codemirror_mode": {
    "name": "ipython",
    "version": 3
   },
   "file_extension": ".py",
   "mimetype": "text/x-python",
   "name": "python",
   "nbconvert_exporter": "python",
   "pygments_lexer": "ipython3",
   "version": "3.9.0"
  }
 },
 "nbformat": 4,
 "nbformat_minor": 2
}
