{
 "cells": [
  {
   "cell_type": "markdown",
   "metadata": {},
   "source": [
    "# **Introduction**\n",
    "\n",
    "* MLflow is an Open Source Machine Learning Platform. It is a better way to manage the ML lifecycle."
   ]
  },
  {
   "cell_type": "markdown",
   "metadata": {},
   "source": [
    "## **MLflow Tracking Quick Start**\n",
    "\n",
    "**What you will learn?**\n",
    "* How to `log` parameters, metrics, and a model\n",
    "* The basics of the MLflow fluent API\n",
    "* How to `register` a model during logging\n",
    "* How to navigate to a model in the `MLflow UI`\n",
    "* How to `load` a logged model for inference"
   ]
  },
  {
   "cell_type": "markdown",
   "metadata": {},
   "source": [
    "#### **Step-1 - Get MLflow**"
   ]
  },
  {
   "cell_type": "code",
   "execution_count": null,
   "metadata": {},
   "outputs": [],
   "source": [
    "# !pip install mlflow"
   ]
  },
  {
   "cell_type": "markdown",
   "metadata": {},
   "source": [
    "#### **Step-2 - Start a Tracking Serve**\n",
    "\n",
    "Reference Link - https://mlflow.org/docs/latest/getting-started/running-notebooks/index.html"
   ]
  },
  {
   "cell_type": "code",
   "execution_count": null,
   "metadata": {},
   "outputs": [],
   "source": [
    "# Run this command in bash: mlflow server --host 127.0.0.1 --port 8080"
   ]
  },
  {
   "cell_type": "code",
   "execution_count": null,
   "metadata": {},
   "outputs": [],
   "source": [
    "# Setting thje tracking Server URI\n",
    "import mlflow\n",
    "\n",
    "mlflow.set_tracking_uri(uri=\"http://<host>:<port>\")"
   ]
  },
  {
   "cell_type": "markdown",
   "metadata": {},
   "source": [
    "#### **Step-3 - Train a model and prepare metadata for logging**\n",
    "\n",
    "* Loading Iris Dataset\n",
    "* Training a Logistic Regression Model and evaluating it\n",
    "* Preparing the model hyperparameters and calcaulating the metrics for logging"
   ]
  },
  {
   "cell_type": "code",
   "execution_count": null,
   "metadata": {},
   "outputs": [],
   "source": [
    "import mlflow\n",
    "from mlflow.models import infer_signature\n",
    "\n",
    "import pandas as pd\n",
    "from sklearn import datasets\n",
    "from sklearn.model_selection import train_test_split\n",
    "from sklearn.linear_model import LogisticRegression\n",
    "from sklearn.metrics import accuracy_score, precision_score, recall_score, f1_score\n",
    "\n",
    "\n",
    "# Load the Iris dataset\n",
    "X, y = datasets.load_iris(return_X_y=True)\n",
    "\n",
    "# Split the data into training and test sets\n",
    "X_train, X_test, y_train, y_test = train_test_split(\n",
    "    X, y, test_size=0.2, random_state=42\n",
    ")\n",
    "\n",
    "# Define the model hyperparameters\n",
    "params = {\n",
    "    \"solver\": \"lbfgs\",\n",
    "    \"max_iter\": 1000,\n",
    "    \"multi_class\": \"auto\",\n",
    "    \"random_state\": 8888,\n",
    "}\n",
    "\n",
    "# Train the model\n",
    "lr = LogisticRegression(**params)\n",
    "lr.fit(X_train, y_train)\n",
    "\n",
    "# Predict on the test set\n",
    "y_pred = lr.predict(X_test)\n",
    "\n",
    "# Calculate metrics\n",
    "accuracy = accuracy_score(y_test, y_pred)"
   ]
  },
  {
   "cell_type": "markdown",
   "metadata": {},
   "source": [
    "#### **Step-4 - Log the Model and its metadata to MLflow**\n",
    "\n",
    "**The steps that we will take are:**\n",
    "* Initiate an MLflow run context to start a new run that we will log the model and metadata to.\n",
    "* Log model parameters and performance metrics.\n",
    "* Tag the run for easy retrieval.\n",
    "* Register the model in the MLflow Model Registry while logging (saving) the model."
   ]
  },
  {
   "cell_type": "code",
   "execution_count": null,
   "metadata": {},
   "outputs": [],
   "source": [
    "# Set our tracking server uri for logging\n",
    "mlflow.set_tracking_uri(uri=\"http://127.0.0.1:8080\")\n",
    "\n",
    "# Create a new MLflow Experiment\n",
    "mlflow.set_experiment(\"MLflow Quickstart\")\n",
    "\n",
    "# Start an MLflow run\n",
    "with mlflow.start_run():\n",
    "    # Log the hyperparameters\n",
    "    mlflow.log_params(params)\n",
    "\n",
    "    # Log the loss metric\n",
    "    mlflow.log_metric(\"accuracy\", accuracy)\n",
    "\n",
    "    # Set a tag that we can use to remind ourselves what this run was for\n",
    "    mlflow.set_tag(\"Training Info\", \"Basic LR model for iris data\")\n",
    "\n",
    "    # Infer the model signature\n",
    "    signature = infer_signature(X_train, lr.predict(X_train))\n",
    "\n",
    "    # Log the model\n",
    "    model_info = mlflow.sklearn.log_model(\n",
    "        sk_model=lr,\n",
    "        artifact_path=\"iris_model\",\n",
    "        signature=signature,\n",
    "        input_example=X_train,\n",
    "        registered_model_name=\"tracking-quickstart\",\n",
    "    )"
   ]
  },
  {
   "cell_type": "markdown",
   "metadata": {},
   "source": [
    "#### **Step-5 - Load the model as a python functioin and use it for inference**\n",
    "\n",
    "**After logging the model, we can perform inference by:**\n",
    "\n",
    "* Loading the model using MLflow’s pyfunc flavor.\n",
    "* Running Predict on new data using the loaded model."
   ]
  },
  {
   "cell_type": "code",
   "execution_count": null,
   "metadata": {},
   "outputs": [],
   "source": [
    "# Load the model back for predictions as a generic Python Function model\n",
    "loaded_model = mlflow.pyfunc.load_model(model_info.model_uri)\n",
    "\n",
    "predictions = loaded_model.predict(X_test)\n",
    "\n",
    "iris_feature_names = datasets.load_iris().feature_names\n",
    "\n",
    "result = pd.DataFrame(X_test, columns=iris_feature_names)\n",
    "result[\"actual_class\"] = y_test\n",
    "result[\"predicted_class\"] = predictions\n",
    "\n",
    "result[:4]"
   ]
  },
  {
   "cell_type": "markdown",
   "metadata": {},
   "source": [
    "#### **Step-6 - View the Run in the MLflow UI**\n",
    "\n",
    "In order to see the results of our run, we can navigate to the MLflow UI. Since we have already started the Tracking Server at http://localhost:8080, we can simply navigate to that URL in our browser."
   ]
  },
  {
   "cell_type": "markdown",
   "metadata": {},
   "source": [
    "## **Tutorial and Example**"
   ]
  },
  {
   "cell_type": "code",
   "execution_count": 1,
   "metadata": {},
   "outputs": [],
   "source": [
    "#\n",
    "# train_diabetes.py\n",
    "#\n",
    "#   MLflow model using ElasticNet (sklearn) and Plots ElasticNet Descent Paths\n",
    "#\n",
    "#   Uses the sklearn Diabetes dataset to predict diabetes progression using ElasticNet\n",
    "#       The predicted \"progression\" column is a quantitative measure of disease progression one year after baseline\n",
    "#       http://scikit-learn.org/stable/modules/generated/sklearn.datasets.load_diabetes.html\n",
    "#   Combines the above with the Lasso Coordinate Descent Path Plot\n",
    "#       http://scikit-learn.org/stable/auto_examples/linear_model/plot_lasso_coordinate_descent_path.html\n",
    "#       Original author: Alexandre Gramfort <alexandre.gramfort@inria.fr>; License: BSD 3 clause\n",
    "#\n",
    "#  Usage:\n",
    "#    python train_diabetes.py 0.01 0.01\n",
    "#    python train_diabetes.py 0.01 0.75\n",
    "#    python train_diabetes.py 0.01 1.0\n",
    "#\n",
    "\n",
    "import sys\n",
    "import warnings\n",
    "from itertools import cycle\n",
    "\n",
    "import matplotlib.pyplot as plt\n",
    "import numpy as np\n",
    "import pandas as pd\n",
    "from sklearn import datasets\n",
    "from sklearn.linear_model import ElasticNet, enet_path\n",
    "from sklearn.metrics import mean_absolute_error, mean_squared_error, r2_score\n",
    "from sklearn.model_selection import train_test_split"
   ]
  },
  {
   "cell_type": "code",
   "execution_count": 2,
   "metadata": {},
   "outputs": [],
   "source": [
    "# Load Diabetes datasets\n",
    "diabetes = datasets.load_diabetes()\n",
    "X = diabetes.data\n",
    "y = diabetes.target\n",
    "\n",
    "# Create pandas DataFrame for sklearn ElasticNet linear_model\n",
    "Y = np.array([y]).transpose()\n",
    "d = np.concatenate((X, Y), axis=1)\n",
    "cols = diabetes.feature_names + [\"progression\"]\n",
    "data = pd.DataFrame(d, columns=cols)"
   ]
  },
  {
   "cell_type": "code",
   "execution_count": 3,
   "metadata": {},
   "outputs": [],
   "source": [
    "# Import mlflow\n",
    "import mlflow\n",
    "import mlflow.sklearn\n",
    "from mlflow.models import infer_signature\n",
    "\n",
    "# Import Dagshub\n",
    "import dagshub"
   ]
  },
  {
   "cell_type": "code",
   "execution_count": 4,
   "metadata": {},
   "outputs": [],
   "source": [
    "# Evaluate metrics\n",
    "def eval_metrics(actual, pred):\n",
    "    rmse = np.sqrt(mean_squared_error(actual, pred))\n",
    "    mae = mean_absolute_error(actual, pred)\n",
    "    r2 = r2_score(actual, pred)\n",
    "    return rmse, mae, r2"
   ]
  },
  {
   "cell_type": "code",
   "execution_count": 5,
   "metadata": {},
   "outputs": [
    {
     "name": "stdout",
     "output_type": "stream",
     "text": [
      "Elasticnet model (alpha=0.050000, l1_ratio=0.050000):\n",
      "  RMSE: 78.59249466381223\n",
      "  MAE: 66.30998032458166\n",
      "  R2: 0.06607434687959957\n"
     ]
    },
    {
     "data": {
      "text/html": [
       "<pre style=\"white-space:pre;overflow-x:auto;line-height:normal;font-family:Menlo,'DejaVu Sans Mono',consolas,'Courier New',monospace\">Repository initialized!\n",
       "</pre>\n"
      ],
      "text/plain": [
       "Repository initialized!\n"
      ]
     },
     "metadata": {},
     "output_type": "display_data"
    },
    {
     "ename": "MlflowException",
     "evalue": "API request to endpoint /api/2.0/mlflow/runs/create failed with error code 404 != 200. Response body: '<!DOCTYPE html>\n<html lang=\"en-US\">\n  <head data-suburl=\"\">\n    <meta http-equiv=\"Content-Type\" content=\"text/html; charset=UTF-8\"/>\n    <meta http-equiv=\"X-UA-Compatible\" content=\"IE=edge\"/>\n    \n    \n      <meta name=\"viewport\" content=\"width=device-width, initial-scale=1\"/>\n    \n    <meta name=\"referrer\" content=\"no-referrer\"/>\n    <meta name=\"_csrf\" content=\"4SCI5lfeuUuyK1uNhmoxtd0npGk6MTcwNDY3MzAzNjgzNTUzODg5Mg\"/>\n    <meta name=\"_suburl\" content=\"\"/>\n    <meta name=\"_appversion\" content=\"9348068744edad4d1e4194a0ec852c168d325ac7\" />\n    <meta name=\"_bareRepo\" content=\"\"/>\n\n    \n    \n  <script>(function(w, d, s, l, i) {\n      w[l] = w[l] || [];\n      w[l].push({\n        'gtm.start':\n          new Date().getTime(), event: 'gtm.js'\n      });\n      var f = d.getElementsByTagName(s)[0],\n        j = d.createElement(s),\n        dl = l != 'dataLayer' ? '&l=' + l : '';\n      j.async = true;\n      j.src =\n        'https://www.googletagmanager.com/gtm.js?id=' + i + dl;\n      f.parentNode.insertBefore(j, f);\n    })(window, document, 'script', 'dataLayer', 'GTM-PGHTMDN');</script>\n\n    \n\n    \n    \n      \n    \n    \n  \n    <title>Page Not Found · DAGsHub</title>\n    <meta name=\"description\"\n          content=\"DagsHub is where people build machine learning projects. DagsHub helps AI teams build better models and manage their data effectively.\"/>\n  \n  \n  <meta property=\"og:url\" content=\"https://dagshub.com/\"/>\n  <meta property=\"og:type\" content=\"website\"/>\n  <meta property=\"og:site_name\" content=\"DagsHub\">\n  <meta property=\"og:title\" content=\"DagsHub: The Home for Machine Learning Collaboration\">\n  <meta property=\"og:description\"\n        content=\"DagsHub is where people build machine learning projects. DagsHub helps AI teams build better models and manage their data effectively.\">\n  <meta property=\"og:image\" content=\"https://dagshub.com/img/open_graph/dagshub-logo.jpg\"/>\n  <meta property=\"og:image:type\" content=\"image/png\">\n  <meta property=\"og:image:width\" content=\"1200\">\n  <meta property=\"og:image:height\" content=\"630\">\n  \n  <meta property=\"twitter:site\" content=\"@TheRealDagsHub\">\n  <meta property=\"twitter:creator\" content=\"@TheRealDagsHub\">\n  <meta property=\"twitter:card\" content=\"summary_large_image\">\n  <meta property=\"twitter:title\" content=\"DagsHub: The Home for Machine Learning Collaboration\">\n  <meta property=\"twitter:description\"\n        content=\"DagsHub is where people build machine learning projects. DagsHub helps AI teams build better models and manage their data effectively.\">\n  <meta property=\"twitter:image:src\" content=\"https://dagshub.com/img/open_graph/dagshub-logo.jpg\">\n  <meta property=\"twitter:image:width\" content=\"1200\">\n  <meta property=\"twitter:image:height\" content=\"630\">\n\n  <script type=\"application/ld+json\">\n    {\n        \"@context\": \"http://schema.org\",\n        \"@type\": \"WebSite\",\n        \"name\": \"DagsHub\",\n        \"url\": \"https://dagshub.com/\",\n        \"sameAs\": [\n            \"https://www.facebook.com/DagsHub/\",\n            \"https://twitter.com/TheRealDagsHub/\",\n            \"https://linkedin.com/company/dagshub/\"\n        ],\n        \"potentialAction\": {\n        \"@type\": \"SearchAction\",\n        \"description\": \"Search for data science projects on DagsHub.\",\n        \"target\": \"https://dagshub.com/explore/repos?q={search_term}\",\n        \"query-input\": \"required name=search_term\"\n        }\n    }\n  </script>\n\n\n    \n\n    <link rel=\"shortcut icon\" href=\"/img/favicon-black.svg\"/>\n\n    <script src=\"/js/jquery-3.6.0.min.js\"></script>\n    \n  <link rel=\"stylesheet\" href=\"https://cdnjs.cloudflare.com/ajax/libs/font-awesome/5.15.3/css/all.css\"\n        integrity=\"sha512-3icgkoIO5qm2D4bGSUkPqeQ96LS8+ukJC7Eqhl1H5B2OJMEnFqLmNDxXVmtV/eq5M65tTDkUYS/Q0P4gvZv+yA==\"\n        crossorigin=\"anonymous\"\n        referrerpolicy=\"no-referrer\" />\n\n\n    <link rel=\"stylesheet\" href=\"/assets/octicons-4.3.0/octicons.min.css\">\n\n    \n    \n\n    \n\n    \n\n    \n\n    \n\n    \n\n    \n\n    \n\n    \n    \n    <link rel=\"preload\" href=\"/css/themes/default/assets/fonts/brand-icons.woff2\" as=\"font\"\n          type=\"font/woff2\" crossorigin/>\n    <link rel=\"preload\" href=\"/css/themes/default/assets/fonts/icons.woff2\" as=\"font\" type=\"font/woff2\"\n          crossorigin/>\n    <link rel=\"preload\" href=\"/assets/fontawesome-5.15.3/webfonts/fa-solid-900.woff2\" as=\"font\"\n          type=\"font/woff2\" crossorigin/>\n\n    \n    <link rel=\"stylesheet\" href=\"/css/semantic-2.4.2.min.css\">\n\n    \n    <link rel=\"stylesheet\" href=\"/css/build/dagshub.css?v=9348068744edad4d1e4194a0ec852c168d325ac7\">\n    <link rel=\"stylesheet\" href=\"/css/gogs.css?v=9348068744edad4d1e4194a0ec852c168d325ac7\">\n\n    \n    <link rel=\"preconnect\" href=\"https://fonts.googleapis.com\">\n    <link rel=\"preconnect\" href=\"https://fonts.gstatic.com\" crossorigin>\n    <link href=\"https://fonts.googleapis.com/css?family=Comfortaa|Lato:300,400,700,900|Jaldi|Open+Sans&display=swap\" rel=\"stylesheet\">\n\n    <noscript>\n      <style>\n        .dropdown:hover > .menu {\n          display: block;\n        }\n\n        .ui.secondary.menu .dropdown.item > .menu {\n          margin-top: 0;\n        }\n      </style>\n    </noscript>\n    <script src=\"/js/semantic-2.4.2.min.js\"></script>\n\n    \n    \n      <link rel=\"stylesheet\" href=\"/css/build/static_dagshub.css?v=9348068744edad4d1e4194a0ec852c168d325ac7\">\n      <link href=\"https://fonts.googleapis.com/css2?family=Inter:wght@300;400;500;600;700;900&display=swap\" rel=\"stylesheet\">\n      <link href='https://fonts.googleapis.com/css?family=Fira Code:wght@300;400;500;600;700;900' rel='stylesheet'>\n    \n\n    <meta name=\"theme-color\" content=\"#103037\">\n\n    \n  <script src=\"https://www.google.com/recaptcha/api.js\" async defer></script>\n\n\n\n    \n  </head>\n  <body>\n\n    \n\n\n\n  <noscript>\n    <iframe src=\"https://www.googletagmanager.com/ns.html?id=GTM-PGHTMDN\"\n            height=\"0\" width=\"0\" style=\"display:none;visibility:hidden\"></iframe>\n  </noscript>\n\n\n\n\n<div class=\"ui tiny modal\" id=\"contact-modal\">\n  <i class=\"close icon\"></i>\n  <div class=\"header\">\n    Contact us\n  </div>\n  <form id=\"contact-form\" class=\"ui form content\" action=\"contact_form\" method=\"post\">\n    <input type=\"hidden\" name=\"_csrf\" value=\"4SCI5lfeuUuyK1uNhmoxtd0npGk6MTcwNDY3MzAzNjgzNTUzODg5Mg\">\n    <div class=\"required field\">\n      <label for=\"user_name\">Your email address</label>\n      <input name=\"email\" type=\"email\" value=\"\"\n             placeholder=\"tony@stark-industries.com\" required>\n    </div>\n    <div class=\"required field\">\n      <label for=\"subject\">Subject</label>\n      <input name=\"subject\" value=\"Hi DagsHub, let's talk\" placeholder=\"What would you like to talk about?\" required>\n    </div>\n    <div class=\"required field\">\n      <textarea class=\"autosize\" name=\"body\" rows=\"7\" ></textarea>\n    </div>\n    \n      <script type=\"text/javascript\">\n        var myRecaptchaListeners = {\n          callAllListeners: function(listeners) {\n            return () => listeners.forEach((f) => f());\n          },\n          successListeners: [],\n          expireListeners: [],\n        };\n        contactFormCaptchaCallback = myRecaptchaListeners.callAllListeners(myRecaptchaListeners.successListeners);\n        contactFormCaptchaExpired = myRecaptchaListeners.callAllListeners(myRecaptchaListeners.expireListeners);\n      </script>\n      <div class=\"g-recaptcha field\"\n           data-sitekey=\"6Lf0Z7gUAAAAAKCsW1V-PqN58BcBNAUxe-oIU3nw\"\n           data-callback=\"contactFormCaptchaCallback\"\n           data-expired-callback=\"contactFormCaptchaExpired\"></div>\n    \n    <input type=\"hidden\" name=\"page\"/>\n    <input type=\"hidden\" name=\"referring_page\"/>\n    <input type=\"hidden\" name=\"referrer\"/>\n    <button class=\"ui positive center aligned labeled icon button\" id=\"send-contact-request-btn\">\n      Send\n      <i class=\"checkmark icon\"></i>\n    </button>\n    \n      <script type=\"text/javascript\">\n        (function() {\n          const submitBtn = document.getElementById('send-contact-request-btn');\n          onExpire = () => submitBtn.style.display = 'none';\n          onExpire();\n          myRecaptchaListeners.successListeners.push(() => {\n            submitBtn.style.display = 'block';\n          });\n          myRecaptchaListeners.expireListeners.push(onExpire);\n        })();\n      </script>\n    \n    <div class=\"ui hidden dimmer inverted\">\n      <div class=\"ui loader\"></div>\n      <div class=\"ui hidden positive message\">\n        <p>Thank you! We'll be in touch ASAP.</p>\n      </div>\n      <div class=\"ui hidden negative message\">\n        <p>Something went wrong, please try again or contact us directly at <a\n                  href=\"mailto:contact@dagshub.com\">contact@dagshub.com</a></p>\n      </div>\n    </div>\n  </form>\n  <script>\n    (function() {\n      const $contactModal = $('#contact-modal');\n      const $contactForm = $('#contact-form');\n      const $dimmer = $contactForm.find('.dimmer');\n      const $loader = $dimmer.find('.loader');\n      const $okMsg = $dimmer.find('.positive');\n      const $errorMsg = $dimmer.find('.negative');\n\n      $contactForm.find('input[name=page]').val(document.URL);\n      $contactForm.find('input[name=referring_page]').val(new URL(document.URL).searchParams.get('referring_page'));\n      $contactForm.find('input[name=referrer]').val(document.referrer);\n\n      \n      $contactModal.modal({\n        onShow: () => {\n          $dimmer.dimmer('hide');\n          $loader.transition('fade in', 0);\n          $okMsg.transition('fade out', 0);\n          $errorMsg.transition('fade out', 0);\n        }\n      });\n\n      $contactForm.submit((e) => {\n        e.preventDefault();\n\n        $dimmer.dimmer('show');\n\n        function hideModal() {\n          setTimeout(() => {\n            $contactModal.modal('hide');\n          }, 3000);\n        }\n\n        \n        const loaderToMessage = function(targetMsg = $okMsg, afterMsg = hideModal) {\n          $loader.transition('fade out');\n          targetMsg.transition('fade in');\n          if (afterMsg) afterMsg();\n        };\n\n        $.ajax({\n          url: $contactForm.attr('action'),\n          method: 'post',\n          data: $contactForm.serialize(),\n          success: () => loaderToMessage(),\n          error: e => {\n            console.error(e);\n            \n            loaderToMessage($errorMsg, null);\n          }\n        });\n        \n        \n        \n        \n      });\n    })();\n  </script>\n  <div class=\"ui secondary segment\">\n    Or if you want, you can join our community at <a href=\"https://discord.com/invite/9gU36Y6\"\n                                                     class=\"ui basic discord icon\"><i class=\"discord grey icon big\"></i></a>\n  </div>\n</div>\n\n\n\n    \n      \n\n<div class=\"mobile dagshub-navbar\">\n    <div class=\"line-divider\"></div>\n\n\n\n\n  \n    \n      <div class=\"primary center button\" style=\"margin-bottom: 10px;\">\n        <a  id=\"sign-up-navbar-mobile\" data-analytics-event=\"Navbar_Register_Clicked\"\n            href=\"/user/sign_up?redirect_to=%2fpavanpandya%2fmflow-exploration%2fapi%2f2.0%2fmlflow%2fruns%2fcreate\n\n\">\n          Register\n        </a>\n      </div>\n    \n      <div class=\"secondary center button\">\n        <a id=\"sign-in-navbar-mobile\" data-analytics-event=\"Navbar_Login_Clicked\"\n           href=\"/user/login?redirect_to=%2fpavanpandya%2fmflow-exploration%2fapi%2f2.0%2fmlflow%2fruns%2fcreate\n\n\">\n          Login\n        </a>\n      </div>\n  \n  <div class=\"line-divider\"></div>\n  \n  \n    <div class=\"subtitle\">Resources</div>\n    <a class=\"navbar-item\"\n       href=\"/docs\" onclick=\"trackAnalyticsEvent('Resources_Docs_Clicked')\">Docs</a>\n    <a class=\"navbar-item\" href=\"/blog\" onclick=\"trackAnalyticsEvent('Resources_Blog_Clicked')\">Blog</a>\n    <a class=\"navbar-item\" data-analytics-event=\"Resources_Datasets_Clicked\" href=\"/datasets\">Datasets</a>\n    <a class=\"navbar-item\" data-analytics-event=\"Resources_Glossary_Clicked\" href=\"/glossary\">Glossary</a>\n    <a class=\"navbar-item\" href=\"/blog/tag/case-study\" onclick=\"trackAnalyticsEvent('Resources_Case_Studies_Clicked')\">Case Studies</a>\n    <a class=\"navbar-item\" href=\"/blog/tag/tutorials\" onclick=\"trackAnalyticsEvent('Resources_Tutorials_Clicked')\">Tutorials &amp; Webinars</a>\n    \n      <div class=\"line-divider\"></div>\n      <div class=\"subtitle\">Product</div>\n      <a class=\"navbar-item\" tabindex=\"0\" href=\"/data-engine\">Data Engine</a>\n      <a class=\"navbar-item\" tabindex=\"0\" href=\"/use-cases/llm\">LLMs</a>\n      <a class=\"navbar-item\" tabindex=\"0\" href=\"/product\">Platform</a>\n      <a class=\"navbar-item\" tabindex=\"0\" href=\"/enterprise\">Enterprise</a>\n    \n    <div class=\"line-divider\"></div>\n    <a class=\"navbar-item\" href=\"/pricing\">Pricing</a>\n  \n  <a class=\"navbar-item\" href=\"/explore/repos\">Explore</a>\n  <div class=\"line-divider\"></div>\n  <a class=\"navbar-item\" href=\"https://discord.com/invite/9gU36Y6\" onclick=\"trackAnalyticsEvent('DiscordIcon_Clicked')\">\n    <img src=\"/assets/social_icons/discord.svg\" aria-label=\"Connect to our Discord channel\">\n    <span>Connect to our Discord channel</span>\n  </a>\n    \n</div>\n<div class=\"pusher\">\n<div class=\"ui full height\">\n  <noscript>This website works better with JavaScript</noscript>\n  \n    <div class=\" navbar-container\">\n      <div id=\"menu-container\" class=\"dagshub-navbar \">\n        <div class=\"left-menu\">\n          <div class=\"fixed-content\">\n            <a href=\"https://dagshub.com/\" tabindex=\"0\">\n              \n              <img width=\"34\" height=\"30\" alt=\"DagsHub navbar logo\" aria-label=\"DagsHub Home\" class=\"navbar-logo\"\n                   src=\"/img/favicon.svg\">\n              \n            </a>\n            <form class=\"search-bar-container\" action=\"/explore/repos\">\n                <input class=\"search-bar\" name=\"q\" value=\"\" aria-label=\"Search public projects\"\n                       placeholder=\"Search public repositories...\" tabindex=\"0\" autocomplete=\"off\">\n            </form>\n          </div>\n          \n          \n            <div class=\"dropdown navbar-item\" tabindex=\"0\">\n              Resources &nbsp; <img class=\"flip\" src=\"/assets/chevron-icon.svg\">\n                <div class=\"submenu\">\n                  <a href=\"/docs\" tabindex=\"0\" onclick=\"trackAnalyticsEvent('Resources_Docs_Clicked')\">Docs</a>\n                  <a href=\"/blog\" tabindex=\"0\" onclick=\"trackAnalyticsEvent('Resources_Blog_Clicked')\">Blog</a>\n                  <a href=\"/datasets\" tabindex=\"0\" data-analytics-event=\"Resources_Datasets_Clicked\">Datasets</a>\n                  <a href=\"/glossary\" tabindex=\"0\" data-analytics-event=\"Resources_Glossary_Clicked\">Glossary</a>\n                  <a href=\"/blog/tag/case-study\" tabindex=\"0\" onclick=\"trackAnalyticsEvent('Resources_Case_Studies_Clicked')\">Case Studies</a>\n                  <a href=\"/blog/tag/tutorials\" tabindex=\"0\" onclick=\"trackAnalyticsEvent('Resources_Tutorials_Clicked')\">Tutorials &amp; Webinars</a>\n                </div>\n            </div>\n          \n          <a class=\"navbar-item\" tabindex=\"0\"\n             href=\"/explore/repos\" onclick=\"trackAnalyticsEvent('ExploreTab_Clicked')\">Explore</a>\n          \n            <a class=\"navbar-item\" tabindex=\"0\" href=\"/pricing\">Pricing</a>\n          \n          <div class=\"dropdown navbar-item\" tabindex=\"0\">\n            Product &nbsp; <img class=\"flip\" src=\"/assets/chevron-icon.svg\">\n            <div class=\"submenu\">\n              <a class=\"navbar-item\" tabindex=\"0\" href=\"/data-engine\">Data Engine</a>\n              <a class=\"navbar-item\" tabindex=\"0\" href=\"/use-cases/llm\">LLMs</a>\n              <a class=\"navbar-item\" tabindex=\"0\" href=\"/product\">Platform</a>\n              <a class=\"navbar-item\" tabindex=\"0\" href=\"/enterprise\">Enterprise</a>\n            </div>\n          </div>\n          \n        \n        </div>\n        \n          <input type=\"checkbox\" id=\"menu-toggle\" style=\"display: none;\" tabindex=\"0\">\n          <label id=\"menu-toggle-label\" for=\"menu-toggle\"><img src=\"/assets/menu-open.svg\"></label>\n          <div id=\"menu-close-label\" style=\"display: none;\"><img src=\"/assets/x.svg\"></div>\n          <div id=\"menu-open-label\" style=\"display: none;\"><img src=\"/assets/menu-open.svg\"></div>\n        \n        <div class=\"right-menu\">\n            <a aria-label=\"join our discord\"\n               class=\"navbar-icon dagshub-tooltip\"\n               tabindex=\"0\"\n               href=\"https://discord.com/invite/9gU36Y6\" onclick=\"trackAnalyticsEvent('DiscordIcon_Clicked')\">\n              <img src=\"/assets/social_icons/discord.svg\" aria-label=\"Connect to our Discord channel\">\n              <span>Connect to Dagshub Discord channel</span>\n            </a>\n            \n              \n                <div class=\"primary button\">\n                  <a id=\"sign-up-navbar\" data-analytics-event=\"Navbar_Register_Clicked\"\n                     href=\"/user/sign_up?redirect_to=%2fpavanpandya%2fmflow-exploration%2fapi%2f2.0%2fmlflow%2fruns%2fcreate\n\n\">\n                    Register\n                  </a>\n                </div>\n              \n              <a id=\"sign-in-navbar\" class=\"secondary button\"\n                 data-analytics-event=\"Navbar_Login_Clicked\"\n                 href=\"/user/login?redirect_to=%2fpavanpandya%2fmflow-exploration%2fapi%2f2.0%2fmlflow%2fruns%2fcreate\n\n\">\n                Login\n              </a>\n            \n        </div>\n      </div>\n    </div>\n  \n\n    \n\n<div class=\"ui container center\">\n  <p style=\"margin-top: 100px\"><img src=\"/img/404.png\" alt=\"404\"/></p>\n  <div class=\"ui divider\"></div>\n  <br>\n  \n  <p>\n    If you think this is an error, please report it on our\n    <strong>\n      <a href=\"https://discord.com/invite/9gU36Y6\">Discord support channel <i class=\"discord icon\"></i></a>\n    </strong>\n  </p>\n    Or, contact us at <a href=\"mailto:support@dagshub.com\">support@dagshub.com</a>.</p>\n</div>\n\n\n</div>\n<footer>\n  <div class=\"ui footer\">\n      <div class=\"dagshub-footer\">\n          <a href=\"https://dagshub.com/\">\n            <img alt=\"footer DagsHub logo\" id=\"footer-logo\" class=\"ui centered image\" aria-label=\"Dagshub home\"\n                           src=\"/img/footerlogo.svg\">\n          </a>\n          <div id=\"footer-social\" class=\"\">\n            <a aria-label=\"DagsHub on Twitter\" class=\"icon-link\"\n               rel=\"nofollow\" target=\"_blank\"\n               href=\"https://twitter.com/TheRealDAGsHub\">\n              <i class=\"twitter large icon\"></i>\n            </a>\n            <a aria-label=\"DagsHub on YouTube\" class=\"icon-link\"\n               rel=\"nofollow\" target=\"_blank\"\n               href=\"https://youtube.com/c/dagshub\">\n              <i class=\"youtube large icon\"></i>\n            </a>\n            <a aria-label=\"DagsHub on LinkedIn\" class=\"icon-link\"\n               rel=\"nofollow\" target=\"_blank\"\n               href=\"https://www.linkedin.com/company/dagshub\">\n              <i class=\"linkedin large icon\"></i>\n            </a>\n            <a aria-label=\"join our Discord\" class=\"icon-link\"\n               rel=\"nofollow\" target=\"_blank\"\n               href=\"https://discord.com/invite/9gU36Y6\">\n              \n              <svg width=\"24\" height=\"19\" viewBox=\"0 0 24 19\" fill=\"none\" xmlns=\"http://www.w3.org/2000/svg\">\n                <path d=\"M20.2415 2.18566C18.7257 1.49015 17.1003 0.977731 15.4007 0.684245C15.3698 0.678581 15.3389 0.692736 15.3229 0.721047C15.1139 1.09286 14.8823 1.57791 14.7202 1.95916C12.8922 1.6855 11.0736 1.6855 9.28318 1.95916C9.12099 1.56944 8.88103 1.09286 8.67104 0.721047C8.6551 0.693681 8.62418 0.679525 8.59323 0.684245C6.89465 0.976793 5.26918 1.48921 3.75245 2.18566C3.73932 2.19133 3.72807 2.20077 3.7206 2.21303C0.637438 6.8192 -0.207169 11.3122 0.207167 15.7494C0.209041 15.7711 0.221228 15.7919 0.238101 15.8051C2.27228 17.2989 4.24273 18.2058 6.17659 18.807C6.20754 18.8164 6.24034 18.8051 6.26003 18.7796C6.71749 18.1549 7.12527 17.4962 7.4749 16.8035C7.49553 16.7629 7.47584 16.7148 7.43366 16.6988C6.78686 16.4534 6.17097 16.1542 5.57852 15.8145C5.53166 15.7872 5.52791 15.7201 5.57102 15.688C5.69569 15.5946 5.8204 15.4974 5.93944 15.3993C5.96098 15.3814 5.99099 15.3776 6.01631 15.3889C9.90842 17.1659 14.1221 17.1659 17.9683 15.3889C17.9936 15.3766 18.0236 15.3804 18.0461 15.3983C18.1652 15.4965 18.2898 15.5946 18.4154 15.688C18.4585 15.7201 18.4557 15.7872 18.4089 15.8145C17.8164 16.1608 17.2005 16.4534 16.5528 16.6978C16.5106 16.7139 16.4919 16.7629 16.5125 16.8035C16.8696 17.4952 17.2774 18.1539 17.7264 18.7787C17.7452 18.8051 17.7789 18.8164 17.8099 18.807C19.7531 18.2058 21.7235 17.2989 23.7577 15.8051C23.7755 15.7919 23.7868 15.7721 23.7887 15.7503C24.2845 10.6204 22.9581 6.16429 20.2724 2.21397C20.2659 2.20077 20.2546 2.19133 20.2415 2.18566ZM8.05612 13.0476C6.88433 13.0476 5.91881 11.9718 5.91881 10.6506C5.91881 9.32943 6.86561 8.25364 8.05612 8.25364C9.25598 8.25364 10.2122 9.33887 10.1934 10.6506C10.1934 11.9718 9.2466 13.0476 8.05612 13.0476ZM15.9585 13.0476C14.7867 13.0476 13.8212 11.9718 13.8212 10.6506C13.8212 9.32943 14.768 8.25364 15.9585 8.25364C17.1584 8.25364 18.1145 9.33887 18.0958 10.6506C18.0958 11.9718 17.1584 13.0476 15.9585 13.0476Z\"/>\n              </svg>\n            </a>\n          </div>\n        <div class=\"links\">\n          <a class=\"footer-item\" rel=\"noopener noreferrer\" href=\"/about\">Our Story</a>\n          <a class=\"footer-item\" rel=\"noopener noreferrer\" href=\"/careers\">Careers</a>\n              \n          <a id=\"merch-store\" class=\"footer-item\" rel=\"noopener noreferrer\"\n             href=\"https://teespring.com/stores/dagshub\">Merch</a>\n          <a class=\"footer-item\" id=\"contact-us-footer\" href=\"javascript:\">Contact Us</a>\n          <script>\n            (function() {\n              const $contactModal = $('#contact-modal');\n              const $contactForm = $contactModal.find('#contact-form');\n              $contactModal.modal('attach events', '#contact-us-footer', 'show');\n              $('#contact-us-footer').on('click', () => {\n                $contactForm.attr('action', 'contact_form');\n              });\n            })();\n          </script>\n              \n                <a class=\"footer-item\" rel=\"noopener noreferrer\" href=\"/enterprise\">Enterprise</a>\n                <a class=\"footer-item\" rel=\"noopener noreferrer\" href=\"/pricing\">Pricing</a>\n              \n        </div>\n          <h2>The home for data science collaboration</h2>\n          <div class=\"legal\">\n            <p>© Copyright Dagshub 2023</p>\n            <div class=\"\">\n              <a class=\"footer-item\" rel=\"noopener noreferrer\" href=\"/terms\">Terms of Service</a>\n              <a class=\"footer-item\" rel=\"noopener noreferrer\" href=\"/privacy\">Privacy Policy</a>\n            </div>\n          </div>\n\n        </div>\n\n      \n      \n      \n      \n      \n      \n      \n      \n      \n      \n      \n      \n\n\n  </div>\n</footer>\n\n\n</div>\n</body>\n\n\n\n\n\n\n\n\n\n\n\n<script src=\"/js/libs/emojify-1.1.0.min.js\"></script>\n<script src=\"/js/libs/clipboard-1.5.9.min.js\"></script>\n\n\n\n<script src=\"/js/gogs.js?v=9348068744edad4d1e4194a0ec852c168d325ac7\"></script>\n<script src=\"/js/dagshub.js?v=9348068744edad4d1e4194a0ec852c168d325ac7\"></script>\n\n\n\n\n\n\n\n\n\n\n\n\n\n\n\n\n\n</html>\n\n\n'",
     "output_type": "error",
     "traceback": [
      "\u001b[0;31m---------------------------------------------------------------------------\u001b[0m",
      "\u001b[0;31mMlflowException\u001b[0m                           Traceback (most recent call last)",
      "Cell \u001b[0;32mIn[5], line 40\u001b[0m\n\u001b[1;32m     37\u001b[0m mlflow\u001b[38;5;241m.\u001b[39mset_tracking_uri(uri\u001b[38;5;241m=\u001b[39mremote_server_uri)\n\u001b[1;32m     39\u001b[0m dagshub\u001b[38;5;241m.\u001b[39minit(\u001b[38;5;124m\"\u001b[39m\u001b[38;5;124mmlflow-exploration\u001b[39m\u001b[38;5;124m\"\u001b[39m, \u001b[38;5;124m\"\u001b[39m\u001b[38;5;124mpavanpandya\u001b[39m\u001b[38;5;124m\"\u001b[39m, mlflow\u001b[38;5;241m=\u001b[39m\u001b[38;5;28;01mTrue\u001b[39;00m)\n\u001b[0;32m---> 40\u001b[0m \u001b[43mmlflow\u001b[49m\u001b[38;5;241;43m.\u001b[39;49m\u001b[43mstart_run\u001b[49m\u001b[43m(\u001b[49m\u001b[43m)\u001b[49m\n\u001b[1;32m     42\u001b[0m \u001b[38;5;66;03m# Log mlflow attributes for mlflow UI\u001b[39;00m\n\u001b[1;32m     43\u001b[0m mlflow\u001b[38;5;241m.\u001b[39mlog_param(\u001b[38;5;124m\"\u001b[39m\u001b[38;5;124malpha\u001b[39m\u001b[38;5;124m\"\u001b[39m, alpha)\n",
      "File \u001b[0;32m/mnt/d/Python/Deep Learning/Projects/kidney-disease-classification/mlflow-tutorial/venv/lib/python3.9/site-packages/mlflow/tracking/fluent.py:366\u001b[0m, in \u001b[0;36mstart_run\u001b[0;34m(run_id, experiment_id, run_name, nested, tags, description)\u001b[0m\n\u001b[1;32m    362\u001b[0m         user_specified_tags[MLFLOW_RUN_NAME] \u001b[38;5;241m=\u001b[39m run_name\n\u001b[1;32m    364\u001b[0m     resolved_tags \u001b[38;5;241m=\u001b[39m context_registry\u001b[38;5;241m.\u001b[39mresolve_tags(user_specified_tags)\n\u001b[0;32m--> 366\u001b[0m     active_run_obj \u001b[38;5;241m=\u001b[39m \u001b[43mclient\u001b[49m\u001b[38;5;241;43m.\u001b[39;49m\u001b[43mcreate_run\u001b[49m\u001b[43m(\u001b[49m\n\u001b[1;32m    367\u001b[0m \u001b[43m        \u001b[49m\u001b[43mexperiment_id\u001b[49m\u001b[38;5;241;43m=\u001b[39;49m\u001b[43mexp_id_for_run\u001b[49m\u001b[43m,\u001b[49m\u001b[43m \u001b[49m\u001b[43mtags\u001b[49m\u001b[38;5;241;43m=\u001b[39;49m\u001b[43mresolved_tags\u001b[49m\u001b[43m,\u001b[49m\u001b[43m \u001b[49m\u001b[43mrun_name\u001b[49m\u001b[38;5;241;43m=\u001b[39;49m\u001b[43mrun_name\u001b[49m\n\u001b[1;32m    368\u001b[0m \u001b[43m    \u001b[49m\u001b[43m)\u001b[49m\n\u001b[1;32m    370\u001b[0m _active_run_stack\u001b[38;5;241m.\u001b[39mappend(ActiveRun(active_run_obj))\n\u001b[1;32m    371\u001b[0m \u001b[38;5;28;01mreturn\u001b[39;00m _active_run_stack[\u001b[38;5;241m-\u001b[39m\u001b[38;5;241m1\u001b[39m]\n",
      "File \u001b[0;32m/mnt/d/Python/Deep Learning/Projects/kidney-disease-classification/mlflow-tutorial/venv/lib/python3.9/site-packages/mlflow/tracking/client.py:326\u001b[0m, in \u001b[0;36mMlflowClient.create_run\u001b[0;34m(self, experiment_id, start_time, tags, run_name)\u001b[0m\n\u001b[1;32m    275\u001b[0m \u001b[38;5;28;01mdef\u001b[39;00m \u001b[38;5;21mcreate_run\u001b[39m(\n\u001b[1;32m    276\u001b[0m     \u001b[38;5;28mself\u001b[39m,\n\u001b[1;32m    277\u001b[0m     experiment_id: \u001b[38;5;28mstr\u001b[39m,\n\u001b[0;32m   (...)\u001b[0m\n\u001b[1;32m    280\u001b[0m     run_name: Optional[\u001b[38;5;28mstr\u001b[39m] \u001b[38;5;241m=\u001b[39m \u001b[38;5;28;01mNone\u001b[39;00m,\n\u001b[1;32m    281\u001b[0m ) \u001b[38;5;241m-\u001b[39m\u001b[38;5;241m>\u001b[39m Run:\n\u001b[1;32m    282\u001b[0m \u001b[38;5;250m    \u001b[39m\u001b[38;5;124;03m\"\"\"\u001b[39;00m\n\u001b[1;32m    283\u001b[0m \u001b[38;5;124;03m    Create a :py:class:`mlflow.entities.Run` object that can be associated with\u001b[39;00m\n\u001b[1;32m    284\u001b[0m \u001b[38;5;124;03m    metrics, parameters, artifacts, etc.\u001b[39;00m\n\u001b[0;32m   (...)\u001b[0m\n\u001b[1;32m    324\u001b[0m \u001b[38;5;124;03m        status: RUNNING\u001b[39;00m\n\u001b[1;32m    325\u001b[0m \u001b[38;5;124;03m    \"\"\"\u001b[39;00m\n\u001b[0;32m--> 326\u001b[0m     \u001b[38;5;28;01mreturn\u001b[39;00m \u001b[38;5;28;43mself\u001b[39;49m\u001b[38;5;241;43m.\u001b[39;49m\u001b[43m_tracking_client\u001b[49m\u001b[38;5;241;43m.\u001b[39;49m\u001b[43mcreate_run\u001b[49m\u001b[43m(\u001b[49m\u001b[43mexperiment_id\u001b[49m\u001b[43m,\u001b[49m\u001b[43m \u001b[49m\u001b[43mstart_time\u001b[49m\u001b[43m,\u001b[49m\u001b[43m \u001b[49m\u001b[43mtags\u001b[49m\u001b[43m,\u001b[49m\u001b[43m \u001b[49m\u001b[43mrun_name\u001b[49m\u001b[43m)\u001b[49m\n",
      "File \u001b[0;32m/mnt/d/Python/Deep Learning/Projects/kidney-disease-classification/mlflow-tutorial/venv/lib/python3.9/site-packages/mlflow/tracking/_tracking_service/client.py:133\u001b[0m, in \u001b[0;36mTrackingServiceClient.create_run\u001b[0;34m(self, experiment_id, start_time, tags, run_name)\u001b[0m\n\u001b[1;32m    128\u001b[0m \u001b[38;5;66;03m# Extract user from tags\u001b[39;00m\n\u001b[1;32m    129\u001b[0m \u001b[38;5;66;03m# This logic is temporary; the user_id attribute of runs is deprecated and will be removed\u001b[39;00m\n\u001b[1;32m    130\u001b[0m \u001b[38;5;66;03m# in a later release.\u001b[39;00m\n\u001b[1;32m    131\u001b[0m user_id \u001b[38;5;241m=\u001b[39m tags\u001b[38;5;241m.\u001b[39mget(MLFLOW_USER, \u001b[38;5;124m\"\u001b[39m\u001b[38;5;124munknown\u001b[39m\u001b[38;5;124m\"\u001b[39m)\n\u001b[0;32m--> 133\u001b[0m \u001b[38;5;28;01mreturn\u001b[39;00m \u001b[38;5;28;43mself\u001b[39;49m\u001b[38;5;241;43m.\u001b[39;49m\u001b[43mstore\u001b[49m\u001b[38;5;241;43m.\u001b[39;49m\u001b[43mcreate_run\u001b[49m\u001b[43m(\u001b[49m\n\u001b[1;32m    134\u001b[0m \u001b[43m    \u001b[49m\u001b[43mexperiment_id\u001b[49m\u001b[38;5;241;43m=\u001b[39;49m\u001b[43mexperiment_id\u001b[49m\u001b[43m,\u001b[49m\n\u001b[1;32m    135\u001b[0m \u001b[43m    \u001b[49m\u001b[43muser_id\u001b[49m\u001b[38;5;241;43m=\u001b[39;49m\u001b[43muser_id\u001b[49m\u001b[43m,\u001b[49m\n\u001b[1;32m    136\u001b[0m \u001b[43m    \u001b[49m\u001b[43mstart_time\u001b[49m\u001b[38;5;241;43m=\u001b[39;49m\u001b[43mstart_time\u001b[49m\u001b[43m \u001b[49m\u001b[38;5;129;43;01mor\u001b[39;49;00m\u001b[43m \u001b[49m\u001b[43mget_current_time_millis\u001b[49m\u001b[43m(\u001b[49m\u001b[43m)\u001b[49m\u001b[43m,\u001b[49m\n\u001b[1;32m    137\u001b[0m \u001b[43m    \u001b[49m\u001b[43mtags\u001b[49m\u001b[38;5;241;43m=\u001b[39;49m\u001b[43m[\u001b[49m\u001b[43mRunTag\u001b[49m\u001b[43m(\u001b[49m\u001b[43mkey\u001b[49m\u001b[43m,\u001b[49m\u001b[43m \u001b[49m\u001b[43mvalue\u001b[49m\u001b[43m)\u001b[49m\u001b[43m \u001b[49m\u001b[38;5;28;43;01mfor\u001b[39;49;00m\u001b[43m \u001b[49m\u001b[43m(\u001b[49m\u001b[43mkey\u001b[49m\u001b[43m,\u001b[49m\u001b[43m \u001b[49m\u001b[43mvalue\u001b[49m\u001b[43m)\u001b[49m\u001b[43m \u001b[49m\u001b[38;5;129;43;01min\u001b[39;49;00m\u001b[43m \u001b[49m\u001b[43mtags\u001b[49m\u001b[38;5;241;43m.\u001b[39;49m\u001b[43mitems\u001b[49m\u001b[43m(\u001b[49m\u001b[43m)\u001b[49m\u001b[43m]\u001b[49m\u001b[43m,\u001b[49m\n\u001b[1;32m    138\u001b[0m \u001b[43m    \u001b[49m\u001b[43mrun_name\u001b[49m\u001b[38;5;241;43m=\u001b[39;49m\u001b[43mrun_name\u001b[49m\u001b[43m,\u001b[49m\n\u001b[1;32m    139\u001b[0m \u001b[43m\u001b[49m\u001b[43m)\u001b[49m\n",
      "File \u001b[0;32m/mnt/d/Python/Deep Learning/Projects/kidney-disease-classification/mlflow-tutorial/venv/lib/python3.9/site-packages/mlflow/store/tracking/rest_store.py:178\u001b[0m, in \u001b[0;36mRestStore.create_run\u001b[0;34m(self, experiment_id, user_id, start_time, tags, run_name)\u001b[0m\n\u001b[1;32m    168\u001b[0m tag_protos \u001b[38;5;241m=\u001b[39m [tag\u001b[38;5;241m.\u001b[39mto_proto() \u001b[38;5;28;01mfor\u001b[39;00m tag \u001b[38;5;129;01min\u001b[39;00m tags]\n\u001b[1;32m    169\u001b[0m req_body \u001b[38;5;241m=\u001b[39m message_to_json(\n\u001b[1;32m    170\u001b[0m     CreateRun(\n\u001b[1;32m    171\u001b[0m         experiment_id\u001b[38;5;241m=\u001b[39m\u001b[38;5;28mstr\u001b[39m(experiment_id),\n\u001b[0;32m   (...)\u001b[0m\n\u001b[1;32m    176\u001b[0m     )\n\u001b[1;32m    177\u001b[0m )\n\u001b[0;32m--> 178\u001b[0m response_proto \u001b[38;5;241m=\u001b[39m \u001b[38;5;28;43mself\u001b[39;49m\u001b[38;5;241;43m.\u001b[39;49m\u001b[43m_call_endpoint\u001b[49m\u001b[43m(\u001b[49m\u001b[43mCreateRun\u001b[49m\u001b[43m,\u001b[49m\u001b[43m \u001b[49m\u001b[43mreq_body\u001b[49m\u001b[43m)\u001b[49m\n\u001b[1;32m    179\u001b[0m run \u001b[38;5;241m=\u001b[39m Run\u001b[38;5;241m.\u001b[39mfrom_proto(response_proto\u001b[38;5;241m.\u001b[39mrun)\n\u001b[1;32m    180\u001b[0m \u001b[38;5;28;01mreturn\u001b[39;00m run\n",
      "File \u001b[0;32m/mnt/d/Python/Deep Learning/Projects/kidney-disease-classification/mlflow-tutorial/venv/lib/python3.9/site-packages/mlflow/store/tracking/rest_store.py:59\u001b[0m, in \u001b[0;36mRestStore._call_endpoint\u001b[0;34m(self, api, json_body)\u001b[0m\n\u001b[1;32m     57\u001b[0m endpoint, method \u001b[38;5;241m=\u001b[39m _METHOD_TO_INFO[api]\n\u001b[1;32m     58\u001b[0m response_proto \u001b[38;5;241m=\u001b[39m api\u001b[38;5;241m.\u001b[39mResponse()\n\u001b[0;32m---> 59\u001b[0m \u001b[38;5;28;01mreturn\u001b[39;00m \u001b[43mcall_endpoint\u001b[49m\u001b[43m(\u001b[49m\u001b[38;5;28;43mself\u001b[39;49m\u001b[38;5;241;43m.\u001b[39;49m\u001b[43mget_host_creds\u001b[49m\u001b[43m(\u001b[49m\u001b[43m)\u001b[49m\u001b[43m,\u001b[49m\u001b[43m \u001b[49m\u001b[43mendpoint\u001b[49m\u001b[43m,\u001b[49m\u001b[43m \u001b[49m\u001b[43mmethod\u001b[49m\u001b[43m,\u001b[49m\u001b[43m \u001b[49m\u001b[43mjson_body\u001b[49m\u001b[43m,\u001b[49m\u001b[43m \u001b[49m\u001b[43mresponse_proto\u001b[49m\u001b[43m)\u001b[49m\n",
      "File \u001b[0;32m/mnt/d/Python/Deep Learning/Projects/kidney-disease-classification/mlflow-tutorial/venv/lib/python3.9/site-packages/mlflow/utils/rest_utils.py:203\u001b[0m, in \u001b[0;36mcall_endpoint\u001b[0;34m(host_creds, endpoint, method, json_body, response_proto, extra_headers)\u001b[0m\n\u001b[1;32m    201\u001b[0m     call_kwargs[\u001b[38;5;124m\"\u001b[39m\u001b[38;5;124mjson\u001b[39m\u001b[38;5;124m\"\u001b[39m] \u001b[38;5;241m=\u001b[39m json_body\n\u001b[1;32m    202\u001b[0m     response \u001b[38;5;241m=\u001b[39m http_request(\u001b[38;5;241m*\u001b[39m\u001b[38;5;241m*\u001b[39mcall_kwargs)\n\u001b[0;32m--> 203\u001b[0m response \u001b[38;5;241m=\u001b[39m \u001b[43mverify_rest_response\u001b[49m\u001b[43m(\u001b[49m\u001b[43mresponse\u001b[49m\u001b[43m,\u001b[49m\u001b[43m \u001b[49m\u001b[43mendpoint\u001b[49m\u001b[43m)\u001b[49m\n\u001b[1;32m    204\u001b[0m js_dict \u001b[38;5;241m=\u001b[39m json\u001b[38;5;241m.\u001b[39mloads(response\u001b[38;5;241m.\u001b[39mtext)\n\u001b[1;32m    205\u001b[0m parse_dict(js_dict\u001b[38;5;241m=\u001b[39mjs_dict, message\u001b[38;5;241m=\u001b[39mresponse_proto)\n",
      "File \u001b[0;32m/mnt/d/Python/Deep Learning/Projects/kidney-disease-classification/mlflow-tutorial/venv/lib/python3.9/site-packages/mlflow/utils/rest_utils.py:141\u001b[0m, in \u001b[0;36mverify_rest_response\u001b[0;34m(response, endpoint)\u001b[0m\n\u001b[1;32m    136\u001b[0m     \u001b[38;5;28;01melse\u001b[39;00m:\n\u001b[1;32m    137\u001b[0m         base_msg \u001b[38;5;241m=\u001b[39m (\n\u001b[1;32m    138\u001b[0m             \u001b[38;5;124mf\u001b[39m\u001b[38;5;124m\"\u001b[39m\u001b[38;5;124mAPI request to endpoint \u001b[39m\u001b[38;5;132;01m{\u001b[39;00mendpoint\u001b[38;5;132;01m}\u001b[39;00m\u001b[38;5;124m \u001b[39m\u001b[38;5;124m\"\u001b[39m\n\u001b[1;32m    139\u001b[0m             \u001b[38;5;124mf\u001b[39m\u001b[38;5;124m\"\u001b[39m\u001b[38;5;124mfailed with error code \u001b[39m\u001b[38;5;132;01m{\u001b[39;00mresponse\u001b[38;5;241m.\u001b[39mstatus_code\u001b[38;5;132;01m}\u001b[39;00m\u001b[38;5;124m != 200\u001b[39m\u001b[38;5;124m\"\u001b[39m\n\u001b[1;32m    140\u001b[0m         )\n\u001b[0;32m--> 141\u001b[0m         \u001b[38;5;28;01mraise\u001b[39;00m MlflowException(\n\u001b[1;32m    142\u001b[0m             \u001b[38;5;124mf\u001b[39m\u001b[38;5;124m\"\u001b[39m\u001b[38;5;132;01m{\u001b[39;00mbase_msg\u001b[38;5;132;01m}\u001b[39;00m\u001b[38;5;124m. Response body: \u001b[39m\u001b[38;5;124m'\u001b[39m\u001b[38;5;132;01m{\u001b[39;00mresponse\u001b[38;5;241m.\u001b[39mtext\u001b[38;5;132;01m}\u001b[39;00m\u001b[38;5;124m'\u001b[39m\u001b[38;5;124m\"\u001b[39m,\n\u001b[1;32m    143\u001b[0m             error_code\u001b[38;5;241m=\u001b[39mget_error_code(response\u001b[38;5;241m.\u001b[39mstatus_code),\n\u001b[1;32m    144\u001b[0m         )\n\u001b[1;32m    146\u001b[0m \u001b[38;5;66;03m# Skip validation for endpoints (e.g. DBFS file-download API) which may return a non-JSON\u001b[39;00m\n\u001b[1;32m    147\u001b[0m \u001b[38;5;66;03m# response\u001b[39;00m\n\u001b[1;32m    148\u001b[0m \u001b[38;5;28;01mif\u001b[39;00m endpoint\u001b[38;5;241m.\u001b[39mstartswith(_REST_API_PATH_PREFIX) \u001b[38;5;129;01mand\u001b[39;00m \u001b[38;5;129;01mnot\u001b[39;00m _can_parse_as_json_object(response\u001b[38;5;241m.\u001b[39mtext):\n",
      "\u001b[0;31mMlflowException\u001b[0m: API request to endpoint /api/2.0/mlflow/runs/create failed with error code 404 != 200. Response body: '<!DOCTYPE html>\n<html lang=\"en-US\">\n  <head data-suburl=\"\">\n    <meta http-equiv=\"Content-Type\" content=\"text/html; charset=UTF-8\"/>\n    <meta http-equiv=\"X-UA-Compatible\" content=\"IE=edge\"/>\n    \n    \n      <meta name=\"viewport\" content=\"width=device-width, initial-scale=1\"/>\n    \n    <meta name=\"referrer\" content=\"no-referrer\"/>\n    <meta name=\"_csrf\" content=\"4SCI5lfeuUuyK1uNhmoxtd0npGk6MTcwNDY3MzAzNjgzNTUzODg5Mg\"/>\n    <meta name=\"_suburl\" content=\"\"/>\n    <meta name=\"_appversion\" content=\"9348068744edad4d1e4194a0ec852c168d325ac7\" />\n    <meta name=\"_bareRepo\" content=\"\"/>\n\n    \n    \n  <script>(function(w, d, s, l, i) {\n      w[l] = w[l] || [];\n      w[l].push({\n        'gtm.start':\n          new Date().getTime(), event: 'gtm.js'\n      });\n      var f = d.getElementsByTagName(s)[0],\n        j = d.createElement(s),\n        dl = l != 'dataLayer' ? '&l=' + l : '';\n      j.async = true;\n      j.src =\n        'https://www.googletagmanager.com/gtm.js?id=' + i + dl;\n      f.parentNode.insertBefore(j, f);\n    })(window, document, 'script', 'dataLayer', 'GTM-PGHTMDN');</script>\n\n    \n\n    \n    \n      \n    \n    \n  \n    <title>Page Not Found · DAGsHub</title>\n    <meta name=\"description\"\n          content=\"DagsHub is where people build machine learning projects. DagsHub helps AI teams build better models and manage their data effectively.\"/>\n  \n  \n  <meta property=\"og:url\" content=\"https://dagshub.com/\"/>\n  <meta property=\"og:type\" content=\"website\"/>\n  <meta property=\"og:site_name\" content=\"DagsHub\">\n  <meta property=\"og:title\" content=\"DagsHub: The Home for Machine Learning Collaboration\">\n  <meta property=\"og:description\"\n        content=\"DagsHub is where people build machine learning projects. DagsHub helps AI teams build better models and manage their data effectively.\">\n  <meta property=\"og:image\" content=\"https://dagshub.com/img/open_graph/dagshub-logo.jpg\"/>\n  <meta property=\"og:image:type\" content=\"image/png\">\n  <meta property=\"og:image:width\" content=\"1200\">\n  <meta property=\"og:image:height\" content=\"630\">\n  \n  <meta property=\"twitter:site\" content=\"@TheRealDagsHub\">\n  <meta property=\"twitter:creator\" content=\"@TheRealDagsHub\">\n  <meta property=\"twitter:card\" content=\"summary_large_image\">\n  <meta property=\"twitter:title\" content=\"DagsHub: The Home for Machine Learning Collaboration\">\n  <meta property=\"twitter:description\"\n        content=\"DagsHub is where people build machine learning projects. DagsHub helps AI teams build better models and manage their data effectively.\">\n  <meta property=\"twitter:image:src\" content=\"https://dagshub.com/img/open_graph/dagshub-logo.jpg\">\n  <meta property=\"twitter:image:width\" content=\"1200\">\n  <meta property=\"twitter:image:height\" content=\"630\">\n\n  <script type=\"application/ld+json\">\n    {\n        \"@context\": \"http://schema.org\",\n        \"@type\": \"WebSite\",\n        \"name\": \"DagsHub\",\n        \"url\": \"https://dagshub.com/\",\n        \"sameAs\": [\n            \"https://www.facebook.com/DagsHub/\",\n            \"https://twitter.com/TheRealDagsHub/\",\n            \"https://linkedin.com/company/dagshub/\"\n        ],\n        \"potentialAction\": {\n        \"@type\": \"SearchAction\",\n        \"description\": \"Search for data science projects on DagsHub.\",\n        \"target\": \"https://dagshub.com/explore/repos?q={search_term}\",\n        \"query-input\": \"required name=search_term\"\n        }\n    }\n  </script>\n\n\n    \n\n    <link rel=\"shortcut icon\" href=\"/img/favicon-black.svg\"/>\n\n    <script src=\"/js/jquery-3.6.0.min.js\"></script>\n    \n  <link rel=\"stylesheet\" href=\"https://cdnjs.cloudflare.com/ajax/libs/font-awesome/5.15.3/css/all.css\"\n        integrity=\"sha512-3icgkoIO5qm2D4bGSUkPqeQ96LS8+ukJC7Eqhl1H5B2OJMEnFqLmNDxXVmtV/eq5M65tTDkUYS/Q0P4gvZv+yA==\"\n        crossorigin=\"anonymous\"\n        referrerpolicy=\"no-referrer\" />\n\n\n    <link rel=\"stylesheet\" href=\"/assets/octicons-4.3.0/octicons.min.css\">\n\n    \n    \n\n    \n\n    \n\n    \n\n    \n\n    \n\n    \n\n    \n\n    \n    \n    <link rel=\"preload\" href=\"/css/themes/default/assets/fonts/brand-icons.woff2\" as=\"font\"\n          type=\"font/woff2\" crossorigin/>\n    <link rel=\"preload\" href=\"/css/themes/default/assets/fonts/icons.woff2\" as=\"font\" type=\"font/woff2\"\n          crossorigin/>\n    <link rel=\"preload\" href=\"/assets/fontawesome-5.15.3/webfonts/fa-solid-900.woff2\" as=\"font\"\n          type=\"font/woff2\" crossorigin/>\n\n    \n    <link rel=\"stylesheet\" href=\"/css/semantic-2.4.2.min.css\">\n\n    \n    <link rel=\"stylesheet\" href=\"/css/build/dagshub.css?v=9348068744edad4d1e4194a0ec852c168d325ac7\">\n    <link rel=\"stylesheet\" href=\"/css/gogs.css?v=9348068744edad4d1e4194a0ec852c168d325ac7\">\n\n    \n    <link rel=\"preconnect\" href=\"https://fonts.googleapis.com\">\n    <link rel=\"preconnect\" href=\"https://fonts.gstatic.com\" crossorigin>\n    <link href=\"https://fonts.googleapis.com/css?family=Comfortaa|Lato:300,400,700,900|Jaldi|Open+Sans&display=swap\" rel=\"stylesheet\">\n\n    <noscript>\n      <style>\n        .dropdown:hover > .menu {\n          display: block;\n        }\n\n        .ui.secondary.menu .dropdown.item > .menu {\n          margin-top: 0;\n        }\n      </style>\n    </noscript>\n    <script src=\"/js/semantic-2.4.2.min.js\"></script>\n\n    \n    \n      <link rel=\"stylesheet\" href=\"/css/build/static_dagshub.css?v=9348068744edad4d1e4194a0ec852c168d325ac7\">\n      <link href=\"https://fonts.googleapis.com/css2?family=Inter:wght@300;400;500;600;700;900&display=swap\" rel=\"stylesheet\">\n      <link href='https://fonts.googleapis.com/css?family=Fira Code:wght@300;400;500;600;700;900' rel='stylesheet'>\n    \n\n    <meta name=\"theme-color\" content=\"#103037\">\n\n    \n  <script src=\"https://www.google.com/recaptcha/api.js\" async defer></script>\n\n\n\n    \n  </head>\n  <body>\n\n    \n\n\n\n  <noscript>\n    <iframe src=\"https://www.googletagmanager.com/ns.html?id=GTM-PGHTMDN\"\n            height=\"0\" width=\"0\" style=\"display:none;visibility:hidden\"></iframe>\n  </noscript>\n\n\n\n\n<div class=\"ui tiny modal\" id=\"contact-modal\">\n  <i class=\"close icon\"></i>\n  <div class=\"header\">\n    Contact us\n  </div>\n  <form id=\"contact-form\" class=\"ui form content\" action=\"contact_form\" method=\"post\">\n    <input type=\"hidden\" name=\"_csrf\" value=\"4SCI5lfeuUuyK1uNhmoxtd0npGk6MTcwNDY3MzAzNjgzNTUzODg5Mg\">\n    <div class=\"required field\">\n      <label for=\"user_name\">Your email address</label>\n      <input name=\"email\" type=\"email\" value=\"\"\n             placeholder=\"tony@stark-industries.com\" required>\n    </div>\n    <div class=\"required field\">\n      <label for=\"subject\">Subject</label>\n      <input name=\"subject\" value=\"Hi DagsHub, let's talk\" placeholder=\"What would you like to talk about?\" required>\n    </div>\n    <div class=\"required field\">\n      <textarea class=\"autosize\" name=\"body\" rows=\"7\" ></textarea>\n    </div>\n    \n      <script type=\"text/javascript\">\n        var myRecaptchaListeners = {\n          callAllListeners: function(listeners) {\n            return () => listeners.forEach((f) => f());\n          },\n          successListeners: [],\n          expireListeners: [],\n        };\n        contactFormCaptchaCallback = myRecaptchaListeners.callAllListeners(myRecaptchaListeners.successListeners);\n        contactFormCaptchaExpired = myRecaptchaListeners.callAllListeners(myRecaptchaListeners.expireListeners);\n      </script>\n      <div class=\"g-recaptcha field\"\n           data-sitekey=\"6Lf0Z7gUAAAAAKCsW1V-PqN58BcBNAUxe-oIU3nw\"\n           data-callback=\"contactFormCaptchaCallback\"\n           data-expired-callback=\"contactFormCaptchaExpired\"></div>\n    \n    <input type=\"hidden\" name=\"page\"/>\n    <input type=\"hidden\" name=\"referring_page\"/>\n    <input type=\"hidden\" name=\"referrer\"/>\n    <button class=\"ui positive center aligned labeled icon button\" id=\"send-contact-request-btn\">\n      Send\n      <i class=\"checkmark icon\"></i>\n    </button>\n    \n      <script type=\"text/javascript\">\n        (function() {\n          const submitBtn = document.getElementById('send-contact-request-btn');\n          onExpire = () => submitBtn.style.display = 'none';\n          onExpire();\n          myRecaptchaListeners.successListeners.push(() => {\n            submitBtn.style.display = 'block';\n          });\n          myRecaptchaListeners.expireListeners.push(onExpire);\n        })();\n      </script>\n    \n    <div class=\"ui hidden dimmer inverted\">\n      <div class=\"ui loader\"></div>\n      <div class=\"ui hidden positive message\">\n        <p>Thank you! We'll be in touch ASAP.</p>\n      </div>\n      <div class=\"ui hidden negative message\">\n        <p>Something went wrong, please try again or contact us directly at <a\n                  href=\"mailto:contact@dagshub.com\">contact@dagshub.com</a></p>\n      </div>\n    </div>\n  </form>\n  <script>\n    (function() {\n      const $contactModal = $('#contact-modal');\n      const $contactForm = $('#contact-form');\n      const $dimmer = $contactForm.find('.dimmer');\n      const $loader = $dimmer.find('.loader');\n      const $okMsg = $dimmer.find('.positive');\n      const $errorMsg = $dimmer.find('.negative');\n\n      $contactForm.find('input[name=page]').val(document.URL);\n      $contactForm.find('input[name=referring_page]').val(new URL(document.URL).searchParams.get('referring_page'));\n      $contactForm.find('input[name=referrer]').val(document.referrer);\n\n      \n      $contactModal.modal({\n        onShow: () => {\n          $dimmer.dimmer('hide');\n          $loader.transition('fade in', 0);\n          $okMsg.transition('fade out', 0);\n          $errorMsg.transition('fade out', 0);\n        }\n      });\n\n      $contactForm.submit((e) => {\n        e.preventDefault();\n\n        $dimmer.dimmer('show');\n\n        function hideModal() {\n          setTimeout(() => {\n            $contactModal.modal('hide');\n          }, 3000);\n        }\n\n        \n        const loaderToMessage = function(targetMsg = $okMsg, afterMsg = hideModal) {\n          $loader.transition('fade out');\n          targetMsg.transition('fade in');\n          if (afterMsg) afterMsg();\n        };\n\n        $.ajax({\n          url: $contactForm.attr('action'),\n          method: 'post',\n          data: $contactForm.serialize(),\n          success: () => loaderToMessage(),\n          error: e => {\n            console.error(e);\n            \n            loaderToMessage($errorMsg, null);\n          }\n        });\n        \n        \n        \n        \n      });\n    })();\n  </script>\n  <div class=\"ui secondary segment\">\n    Or if you want, you can join our community at <a href=\"https://discord.com/invite/9gU36Y6\"\n                                                     class=\"ui basic discord icon\"><i class=\"discord grey icon big\"></i></a>\n  </div>\n</div>\n\n\n\n    \n      \n\n<div class=\"mobile dagshub-navbar\">\n    <div class=\"line-divider\"></div>\n\n\n\n\n  \n    \n      <div class=\"primary center button\" style=\"margin-bottom: 10px;\">\n        <a  id=\"sign-up-navbar-mobile\" data-analytics-event=\"Navbar_Register_Clicked\"\n            href=\"/user/sign_up?redirect_to=%2fpavanpandya%2fmflow-exploration%2fapi%2f2.0%2fmlflow%2fruns%2fcreate\n\n\">\n          Register\n        </a>\n      </div>\n    \n      <div class=\"secondary center button\">\n        <a id=\"sign-in-navbar-mobile\" data-analytics-event=\"Navbar_Login_Clicked\"\n           href=\"/user/login?redirect_to=%2fpavanpandya%2fmflow-exploration%2fapi%2f2.0%2fmlflow%2fruns%2fcreate\n\n\">\n          Login\n        </a>\n      </div>\n  \n  <div class=\"line-divider\"></div>\n  \n  \n    <div class=\"subtitle\">Resources</div>\n    <a class=\"navbar-item\"\n       href=\"/docs\" onclick=\"trackAnalyticsEvent('Resources_Docs_Clicked')\">Docs</a>\n    <a class=\"navbar-item\" href=\"/blog\" onclick=\"trackAnalyticsEvent('Resources_Blog_Clicked')\">Blog</a>\n    <a class=\"navbar-item\" data-analytics-event=\"Resources_Datasets_Clicked\" href=\"/datasets\">Datasets</a>\n    <a class=\"navbar-item\" data-analytics-event=\"Resources_Glossary_Clicked\" href=\"/glossary\">Glossary</a>\n    <a class=\"navbar-item\" href=\"/blog/tag/case-study\" onclick=\"trackAnalyticsEvent('Resources_Case_Studies_Clicked')\">Case Studies</a>\n    <a class=\"navbar-item\" href=\"/blog/tag/tutorials\" onclick=\"trackAnalyticsEvent('Resources_Tutorials_Clicked')\">Tutorials &amp; Webinars</a>\n    \n      <div class=\"line-divider\"></div>\n      <div class=\"subtitle\">Product</div>\n      <a class=\"navbar-item\" tabindex=\"0\" href=\"/data-engine\">Data Engine</a>\n      <a class=\"navbar-item\" tabindex=\"0\" href=\"/use-cases/llm\">LLMs</a>\n      <a class=\"navbar-item\" tabindex=\"0\" href=\"/product\">Platform</a>\n      <a class=\"navbar-item\" tabindex=\"0\" href=\"/enterprise\">Enterprise</a>\n    \n    <div class=\"line-divider\"></div>\n    <a class=\"navbar-item\" href=\"/pricing\">Pricing</a>\n  \n  <a class=\"navbar-item\" href=\"/explore/repos\">Explore</a>\n  <div class=\"line-divider\"></div>\n  <a class=\"navbar-item\" href=\"https://discord.com/invite/9gU36Y6\" onclick=\"trackAnalyticsEvent('DiscordIcon_Clicked')\">\n    <img src=\"/assets/social_icons/discord.svg\" aria-label=\"Connect to our Discord channel\">\n    <span>Connect to our Discord channel</span>\n  </a>\n    \n</div>\n<div class=\"pusher\">\n<div class=\"ui full height\">\n  <noscript>This website works better with JavaScript</noscript>\n  \n    <div class=\" navbar-container\">\n      <div id=\"menu-container\" class=\"dagshub-navbar \">\n        <div class=\"left-menu\">\n          <div class=\"fixed-content\">\n            <a href=\"https://dagshub.com/\" tabindex=\"0\">\n              \n              <img width=\"34\" height=\"30\" alt=\"DagsHub navbar logo\" aria-label=\"DagsHub Home\" class=\"navbar-logo\"\n                   src=\"/img/favicon.svg\">\n              \n            </a>\n            <form class=\"search-bar-container\" action=\"/explore/repos\">\n                <input class=\"search-bar\" name=\"q\" value=\"\" aria-label=\"Search public projects\"\n                       placeholder=\"Search public repositories...\" tabindex=\"0\" autocomplete=\"off\">\n            </form>\n          </div>\n          \n          \n            <div class=\"dropdown navbar-item\" tabindex=\"0\">\n              Resources &nbsp; <img class=\"flip\" src=\"/assets/chevron-icon.svg\">\n                <div class=\"submenu\">\n                  <a href=\"/docs\" tabindex=\"0\" onclick=\"trackAnalyticsEvent('Resources_Docs_Clicked')\">Docs</a>\n                  <a href=\"/blog\" tabindex=\"0\" onclick=\"trackAnalyticsEvent('Resources_Blog_Clicked')\">Blog</a>\n                  <a href=\"/datasets\" tabindex=\"0\" data-analytics-event=\"Resources_Datasets_Clicked\">Datasets</a>\n                  <a href=\"/glossary\" tabindex=\"0\" data-analytics-event=\"Resources_Glossary_Clicked\">Glossary</a>\n                  <a href=\"/blog/tag/case-study\" tabindex=\"0\" onclick=\"trackAnalyticsEvent('Resources_Case_Studies_Clicked')\">Case Studies</a>\n                  <a href=\"/blog/tag/tutorials\" tabindex=\"0\" onclick=\"trackAnalyticsEvent('Resources_Tutorials_Clicked')\">Tutorials &amp; Webinars</a>\n                </div>\n            </div>\n          \n          <a class=\"navbar-item\" tabindex=\"0\"\n             href=\"/explore/repos\" onclick=\"trackAnalyticsEvent('ExploreTab_Clicked')\">Explore</a>\n          \n            <a class=\"navbar-item\" tabindex=\"0\" href=\"/pricing\">Pricing</a>\n          \n          <div class=\"dropdown navbar-item\" tabindex=\"0\">\n            Product &nbsp; <img class=\"flip\" src=\"/assets/chevron-icon.svg\">\n            <div class=\"submenu\">\n              <a class=\"navbar-item\" tabindex=\"0\" href=\"/data-engine\">Data Engine</a>\n              <a class=\"navbar-item\" tabindex=\"0\" href=\"/use-cases/llm\">LLMs</a>\n              <a class=\"navbar-item\" tabindex=\"0\" href=\"/product\">Platform</a>\n              <a class=\"navbar-item\" tabindex=\"0\" href=\"/enterprise\">Enterprise</a>\n            </div>\n          </div>\n          \n        \n        </div>\n        \n          <input type=\"checkbox\" id=\"menu-toggle\" style=\"display: none;\" tabindex=\"0\">\n          <label id=\"menu-toggle-label\" for=\"menu-toggle\"><img src=\"/assets/menu-open.svg\"></label>\n          <div id=\"menu-close-label\" style=\"display: none;\"><img src=\"/assets/x.svg\"></div>\n          <div id=\"menu-open-label\" style=\"display: none;\"><img src=\"/assets/menu-open.svg\"></div>\n        \n        <div class=\"right-menu\">\n            <a aria-label=\"join our discord\"\n               class=\"navbar-icon dagshub-tooltip\"\n               tabindex=\"0\"\n               href=\"https://discord.com/invite/9gU36Y6\" onclick=\"trackAnalyticsEvent('DiscordIcon_Clicked')\">\n              <img src=\"/assets/social_icons/discord.svg\" aria-label=\"Connect to our Discord channel\">\n              <span>Connect to Dagshub Discord channel</span>\n            </a>\n            \n              \n                <div class=\"primary button\">\n                  <a id=\"sign-up-navbar\" data-analytics-event=\"Navbar_Register_Clicked\"\n                     href=\"/user/sign_up?redirect_to=%2fpavanpandya%2fmflow-exploration%2fapi%2f2.0%2fmlflow%2fruns%2fcreate\n\n\">\n                    Register\n                  </a>\n                </div>\n              \n              <a id=\"sign-in-navbar\" class=\"secondary button\"\n                 data-analytics-event=\"Navbar_Login_Clicked\"\n                 href=\"/user/login?redirect_to=%2fpavanpandya%2fmflow-exploration%2fapi%2f2.0%2fmlflow%2fruns%2fcreate\n\n\">\n                Login\n              </a>\n            \n        </div>\n      </div>\n    </div>\n  \n\n    \n\n<div class=\"ui container center\">\n  <p style=\"margin-top: 100px\"><img src=\"/img/404.png\" alt=\"404\"/></p>\n  <div class=\"ui divider\"></div>\n  <br>\n  \n  <p>\n    If you think this is an error, please report it on our\n    <strong>\n      <a href=\"https://discord.com/invite/9gU36Y6\">Discord support channel <i class=\"discord icon\"></i></a>\n    </strong>\n  </p>\n    Or, contact us at <a href=\"mailto:support@dagshub.com\">support@dagshub.com</a>.</p>\n</div>\n\n\n</div>\n<footer>\n  <div class=\"ui footer\">\n      <div class=\"dagshub-footer\">\n          <a href=\"https://dagshub.com/\">\n            <img alt=\"footer DagsHub logo\" id=\"footer-logo\" class=\"ui centered image\" aria-label=\"Dagshub home\"\n                           src=\"/img/footerlogo.svg\">\n          </a>\n          <div id=\"footer-social\" class=\"\">\n            <a aria-label=\"DagsHub on Twitter\" class=\"icon-link\"\n               rel=\"nofollow\" target=\"_blank\"\n               href=\"https://twitter.com/TheRealDAGsHub\">\n              <i class=\"twitter large icon\"></i>\n            </a>\n            <a aria-label=\"DagsHub on YouTube\" class=\"icon-link\"\n               rel=\"nofollow\" target=\"_blank\"\n               href=\"https://youtube.com/c/dagshub\">\n              <i class=\"youtube large icon\"></i>\n            </a>\n            <a aria-label=\"DagsHub on LinkedIn\" class=\"icon-link\"\n               rel=\"nofollow\" target=\"_blank\"\n               href=\"https://www.linkedin.com/company/dagshub\">\n              <i class=\"linkedin large icon\"></i>\n            </a>\n            <a aria-label=\"join our Discord\" class=\"icon-link\"\n               rel=\"nofollow\" target=\"_blank\"\n               href=\"https://discord.com/invite/9gU36Y6\">\n              \n              <svg width=\"24\" height=\"19\" viewBox=\"0 0 24 19\" fill=\"none\" xmlns=\"http://www.w3.org/2000/svg\">\n                <path d=\"M20.2415 2.18566C18.7257 1.49015 17.1003 0.977731 15.4007 0.684245C15.3698 0.678581 15.3389 0.692736 15.3229 0.721047C15.1139 1.09286 14.8823 1.57791 14.7202 1.95916C12.8922 1.6855 11.0736 1.6855 9.28318 1.95916C9.12099 1.56944 8.88103 1.09286 8.67104 0.721047C8.6551 0.693681 8.62418 0.679525 8.59323 0.684245C6.89465 0.976793 5.26918 1.48921 3.75245 2.18566C3.73932 2.19133 3.72807 2.20077 3.7206 2.21303C0.637438 6.8192 -0.207169 11.3122 0.207167 15.7494C0.209041 15.7711 0.221228 15.7919 0.238101 15.8051C2.27228 17.2989 4.24273 18.2058 6.17659 18.807C6.20754 18.8164 6.24034 18.8051 6.26003 18.7796C6.71749 18.1549 7.12527 17.4962 7.4749 16.8035C7.49553 16.7629 7.47584 16.7148 7.43366 16.6988C6.78686 16.4534 6.17097 16.1542 5.57852 15.8145C5.53166 15.7872 5.52791 15.7201 5.57102 15.688C5.69569 15.5946 5.8204 15.4974 5.93944 15.3993C5.96098 15.3814 5.99099 15.3776 6.01631 15.3889C9.90842 17.1659 14.1221 17.1659 17.9683 15.3889C17.9936 15.3766 18.0236 15.3804 18.0461 15.3983C18.1652 15.4965 18.2898 15.5946 18.4154 15.688C18.4585 15.7201 18.4557 15.7872 18.4089 15.8145C17.8164 16.1608 17.2005 16.4534 16.5528 16.6978C16.5106 16.7139 16.4919 16.7629 16.5125 16.8035C16.8696 17.4952 17.2774 18.1539 17.7264 18.7787C17.7452 18.8051 17.7789 18.8164 17.8099 18.807C19.7531 18.2058 21.7235 17.2989 23.7577 15.8051C23.7755 15.7919 23.7868 15.7721 23.7887 15.7503C24.2845 10.6204 22.9581 6.16429 20.2724 2.21397C20.2659 2.20077 20.2546 2.19133 20.2415 2.18566ZM8.05612 13.0476C6.88433 13.0476 5.91881 11.9718 5.91881 10.6506C5.91881 9.32943 6.86561 8.25364 8.05612 8.25364C9.25598 8.25364 10.2122 9.33887 10.1934 10.6506C10.1934 11.9718 9.2466 13.0476 8.05612 13.0476ZM15.9585 13.0476C14.7867 13.0476 13.8212 11.9718 13.8212 10.6506C13.8212 9.32943 14.768 8.25364 15.9585 8.25364C17.1584 8.25364 18.1145 9.33887 18.0958 10.6506C18.0958 11.9718 17.1584 13.0476 15.9585 13.0476Z\"/>\n              </svg>\n            </a>\n          </div>\n        <div class=\"links\">\n          <a class=\"footer-item\" rel=\"noopener noreferrer\" href=\"/about\">Our Story</a>\n          <a class=\"footer-item\" rel=\"noopener noreferrer\" href=\"/careers\">Careers</a>\n              \n          <a id=\"merch-store\" class=\"footer-item\" rel=\"noopener noreferrer\"\n             href=\"https://teespring.com/stores/dagshub\">Merch</a>\n          <a class=\"footer-item\" id=\"contact-us-footer\" href=\"javascript:\">Contact Us</a>\n          <script>\n            (function() {\n              const $contactModal = $('#contact-modal');\n              const $contactForm = $contactModal.find('#contact-form');\n              $contactModal.modal('attach events', '#contact-us-footer', 'show');\n              $('#contact-us-footer').on('click', () => {\n                $contactForm.attr('action', 'contact_form');\n              });\n            })();\n          </script>\n              \n                <a class=\"footer-item\" rel=\"noopener noreferrer\" href=\"/enterprise\">Enterprise</a>\n                <a class=\"footer-item\" rel=\"noopener noreferrer\" href=\"/pricing\">Pricing</a>\n              \n        </div>\n          <h2>The home for data science collaboration</h2>\n          <div class=\"legal\">\n            <p>© Copyright Dagshub 2023</p>\n            <div class=\"\">\n              <a class=\"footer-item\" rel=\"noopener noreferrer\" href=\"/terms\">Terms of Service</a>\n              <a class=\"footer-item\" rel=\"noopener noreferrer\" href=\"/privacy\">Privacy Policy</a>\n            </div>\n          </div>\n\n        </div>\n\n      \n      \n      \n      \n      \n      \n      \n      \n      \n      \n      \n      \n\n\n  </div>\n</footer>\n\n\n</div>\n</body>\n\n\n\n\n\n\n\n\n\n\n\n<script src=\"/js/libs/emojify-1.1.0.min.js\"></script>\n<script src=\"/js/libs/clipboard-1.5.9.min.js\"></script>\n\n\n\n<script src=\"/js/gogs.js?v=9348068744edad4d1e4194a0ec852c168d325ac7\"></script>\n<script src=\"/js/dagshub.js?v=9348068744edad4d1e4194a0ec852c168d325ac7\"></script>\n\n\n\n\n\n\n\n\n\n\n\n\n\n\n\n\n\n</html>\n\n\n'"
     ]
    }
   ],
   "source": [
    "if __name__ == \"__main__\":\n",
    "    warnings.filterwarnings(\"ignore\")\n",
    "    np.random.seed(40)\n",
    "\n",
    "    # Split the data into training and test sets. (0.75, 0.25) split.\n",
    "    train, test = train_test_split(data)\n",
    "\n",
    "    # The predicted column is \"progression\" which is a quantitative measure of disease progression one year after baseline\n",
    "    train_x = train.drop([\"progression\"], axis=1)\n",
    "    test_x = test.drop([\"progression\"], axis=1)\n",
    "    train_y = train[[\"progression\"]]\n",
    "    test_y = test[[\"progression\"]]\n",
    "\n",
    "    # alpha = float(sys.argv[1]) if len(sys.argv) > 1 else 0.05\n",
    "    # l1_ratio = float(sys.argv[2]) if len(sys.argv) > 2 else 0.05\n",
    "    alpha = 0.05\n",
    "    l1_ratio = 0.05\n",
    "\n",
    "    # Run ElasticNet\n",
    "    lr = ElasticNet(alpha=alpha, l1_ratio=l1_ratio, random_state=42)\n",
    "    lr.fit(train_x, train_y)\n",
    "    predicted_qualities = lr.predict(test_x)\n",
    "    (rmse, mae, r2) = eval_metrics(test_y, predicted_qualities)\n",
    "\n",
    "    # Print out ElasticNet model metrics\n",
    "    print(f\"Elasticnet model (alpha={alpha:f}, l1_ratio={l1_ratio:f}):\")\n",
    "    print(f\"  RMSE: {rmse}\")\n",
    "    print(f\"  MAE: {mae}\")\n",
    "    print(f\"  R2: {r2}\")\n",
    "\n",
    "    # Infer model signature\n",
    "    predictions = lr.predict(train_x)\n",
    "    signature = infer_signature(train_x, predictions)\n",
    "        \n",
    "    # mlflow.set_tracking_uri(uri=\"http://<host>:<port>\")\n",
    "    remote_server_uri = \"https://dagshub.com/pavanpandya/mflow-exploration\"\n",
    "    mlflow.set_tracking_uri(uri=remote_server_uri)\n",
    "\n",
    "    dagshub.init(\"mlflow-exploration\", \"pavanpandya\", mlflow=True)\n",
    "    mlflow.start_run()\n",
    "\n",
    "    # Log mlflow attributes for mlflow UI\n",
    "    mlflow.log_param(\"alpha\", alpha)\n",
    "    mlflow.log_param(\"l1_ratio\", l1_ratio)\n",
    "    mlflow.log_metric(\"rmse\", rmse)\n",
    "    mlflow.log_metric(\"r2\", r2)\n",
    "    mlflow.log_metric(\"mae\", mae)\n",
    "    mlflow.sklearn.log_model(lr, \"model\", signature=signature)\n",
    "\n",
    "    # Compute paths\n",
    "    eps = 5e-3  # the smaller it is the longer is the path\n",
    "\n",
    "    print(\"Computing regularization path using the elastic net.\")\n",
    "    alphas_enet, coefs_enet, _ = enet_path(X, y, eps=eps, l1_ratio=l1_ratio)\n",
    "\n",
    "    # Display results\n",
    "    fig = plt.figure(1)\n",
    "    ax = plt.gca()\n",
    "\n",
    "    colors = cycle([\"b\", \"r\", \"g\", \"c\", \"k\"])\n",
    "    neg_log_alphas_enet = -np.log10(alphas_enet)\n",
    "    for coef_e, c in zip(coefs_enet, colors):\n",
    "        l2 = plt.plot(neg_log_alphas_enet, coef_e, linestyle=\"--\", c=c)\n",
    "\n",
    "    plt.xlabel(\"-Log(alpha)\")\n",
    "    plt.ylabel(\"coefficients\")\n",
    "    title = \"ElasticNet Path by alpha for l1_ratio = \" + str(l1_ratio)\n",
    "    plt.title(title)\n",
    "    plt.axis(\"tight\")\n",
    "\n",
    "    # Save figures\n",
    "    fig.savefig(\"ElasticNet-paths.png\")\n",
    "\n",
    "    # Close plot\n",
    "    plt.close(fig)\n",
    "\n",
    "    # Log artifacts (output files)\n",
    "    mlflow.log_artifact(\"ElasticNet-paths.png\")\n",
    "\n",
    "    mlflow.end_run()"
   ]
  },
  {
   "cell_type": "code",
   "execution_count": null,
   "metadata": {},
   "outputs": [],
   "source": []
  }
 ],
 "metadata": {
  "kernelspec": {
   "display_name": "Python 3",
   "language": "python",
   "name": "python3"
  },
  "language_info": {
   "codemirror_mode": {
    "name": "ipython",
    "version": 3
   },
   "file_extension": ".py",
   "mimetype": "text/x-python",
   "name": "python",
   "nbconvert_exporter": "python",
   "pygments_lexer": "ipython3",
   "version": "3.9.0"
  }
 },
 "nbformat": 4,
 "nbformat_minor": 2
}
